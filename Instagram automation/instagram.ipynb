{
 "cells": [
  {
   "cell_type": "code",
   "execution_count": 1,
   "id": "da0f0a14-5aab-4a8c-8fea-a459a57df55d",
   "metadata": {},
   "outputs": [
    {
     "data": {
      "text/plain": [
       "7"
      ]
     },
     "execution_count": 1,
     "metadata": {},
     "output_type": "execute_result"
    }
   ],
   "source": [
    "2+5"
   ]
  },
  {
   "cell_type": "code",
   "execution_count": 2,
   "id": "b3a252ad-2519-4a0b-b978-cf4f60a79b29",
   "metadata": {},
   "outputs": [],
   "source": [
    "from bs4 import BeautifulSoup\n",
    "import lxml\n",
    "import requests\n",
    "from selenium import webdriver\n",
    "from selenium.webdriver.common.by import By\n",
    "from selenium.webdriver.common.keys import Keys\n",
    "from selenium.webdriver.support import expected_conditions as EC\n",
    "from selenium.webdriver.support.ui import WebDriverWait\n",
    "import time"
   ]
  },
  {
   "cell_type": "code",
   "execution_count": 3,
   "id": "853e3ff4-dc29-480d-8167-dc7bedacf686",
   "metadata": {},
   "outputs": [],
   "source": [
    "celebrity = 'thethinkschool'\n",
    "numberOfFollowers = 30\n",
    "numberOfPeopleLiked = 30"
   ]
  },
  {
   "cell_type": "code",
   "execution_count": 4,
   "id": "e233a35e-a863-4eb5-9eeb-ef83bcbaf621",
   "metadata": {},
   "outputs": [],
   "source": [
    "#cService = webdriver.ChromeService(executable_path='F:/Work/Automation Web scraping/Automation test/chromedriver-win64/chromedriver.exe')\n",
    "#driver = webdriver.Chrome(service = cService)\n",
    "driver = webdriver.Chrome()\n",
    "driver.get('https://www.instagram.com/')\n",
    "time.sleep(5)"
   ]
  },
  {
   "cell_type": "code",
   "execution_count": 5,
   "id": "23d989f9-5f11-4374-a228-1ba032205154",
   "metadata": {},
   "outputs": [],
   "source": [
    "#login\n",
    "login = driver.find_element('xpath','//*[@id=\"loginForm\"]/div/div[1]/div/label/input')\n",
    "login.send_keys('aaravmalhotra@myyahoo.com')\n",
    "time.sleep(5)\n",
    "pswd = driver.find_element('xpath','//*[@id=\"loginForm\"]/div/div[2]/div/label/input')\n",
    "pswd.send_keys('souvik2000')\n",
    "loginButton = driver.find_element('xpath','//*[@id=\"loginForm\"]/div/div[3]/button')\n",
    "loginButton.click()\n"
   ]
  },
  {
   "cell_type": "code",
   "execution_count": 6,
   "id": "b40dd7b9-9a51-408a-800f-8bcf2f0a734d",
   "metadata": {},
   "outputs": [
    {
     "name": "stdout",
     "output_type": "stream",
     "text": [
      "mount_0_0_zC\n"
     ]
    }
   ],
   "source": [
    "soup = BeautifulSoup(driver.page_source, 'lxml')\n",
    "stringSoup = str(soup)\n",
    "mountId = stringSoup[stringSoup.index(\"mount\"):(stringSoup.index(\"mount\")+12)] \n",
    "print(mountId)"
   ]
  },
  {
   "cell_type": "code",
   "execution_count": 7,
   "id": "f873c1d5-5a3a-40e9-94b4-8edf973e7968",
   "metadata": {},
   "outputs": [
    {
     "name": "stdout",
     "output_type": "stream",
     "text": [
      "finally\n"
     ]
    }
   ],
   "source": [
    "#wait after login \n",
    "try:\n",
    "    WebDriverWait(driver, 5).until(EC.presence_of_element_located((By.XPATH, '//*[@id=\"'+mountId+'\"]/div/div/div[2]/div/div/div[1]/div[1]/div[1]/div/div/div/div/div[2]/div[2]/span')))\n",
    "except:\n",
    "    try:\n",
    "        WebDriverWait(driver, 5).until(EC.presence_of_element_located((By.XPATH, '//*[@id=\"'+mountId+'\"]/div/div/div[2]/div/div/div[1]/div[1]/div[2]/div/div/div[1]/div/div[2]/div[2]/span')))\n",
    "    except:\n",
    "        try:\n",
    "            WebDriverWait(driver, 5).until(EC.presence_of_element_located((By.XPATH, '//*[@id=\"'+mountId+'\"]/div/div/div[2]/div/div/div[1]/div[1]/div[2]/div/div/div[1]/div/div[3]/div[2]/span')))\n",
    "        except:\n",
    "            print(\"test\")\n",
    "            \n",
    "finally:\n",
    "    print(\"finally\")\n"
   ]
  },
  {
   "cell_type": "code",
   "execution_count": 8,
   "id": "0ca03566-ee64-4670-bea5-ccd3a7a1cd0c",
   "metadata": {},
   "outputs": [],
   "source": [
    "#Click on the search icon\n",
    "try:\n",
    "    searchButton = driver.find_element('xpath','//*[@id=\"'+mountId+'\"]/div/div/div[2]/div/div/div[1]/div[1]/div[1]/div/div/div/div/div[2]/div[2]/span')\n",
    "except:\n",
    "    try:\n",
    "        searchButton = driver.find_element('xpath','//*[@id=\"'+mountId+'\"]/div/div/div[2]/div/div/div[1]/div[1]/div[2]/div/div/div[1]/div/div[2]/div[2]/span')\n",
    "    except:\n",
    "        print(\"test\")\n",
    "\n",
    "finally:\n",
    "    searchButton.click()\n"
   ]
  },
  {
   "cell_type": "code",
   "execution_count": 9,
   "id": "cf61dc45-3b46-42a9-be36-827988f6c8fd",
   "metadata": {},
   "outputs": [],
   "source": [
    "#Enter person name\n",
    "try:\n",
    "    search = driver.find_element('xpath','//*[@id=\"'+mountId+'\"]/div/div/div[2]/div/div/div[1]/div[1]/div[1]/div/div/div[2]/div/div/div[2]/div/div/div[1]/div/div/input')\n",
    "except:\n",
    "    search = driver.find_element('xpath','//*[@id=\"'+mountId+'\"]/div/div/div[2]/div/div/div[1]/div[1]/div[2]/div/div/div[2]/div/div/div[2]/div/div/div[1]/div/div/input')\n",
    "finally:    \n",
    "    search.send_keys(celebrity)\n",
    "    search.send_keys(Keys.ENTER)\n",
    "    time.sleep(2)\n"
   ]
  },
  {
   "cell_type": "code",
   "execution_count": 10,
   "id": "21f4d749-db57-4495-8616-6299558b4709",
   "metadata": {},
   "outputs": [],
   "source": [
    "#clicks on our person profile\n",
    "try:\n",
    "    profile = driver.find_element('xpath','//*[@id=\"'+mountId+'\"]/div/div/div[2]/div/div/div[1]/div[1]/div[1]/div/div/div[2]/div/div/div[2]/div/div/div[2]/div/a[1]').click()\n",
    "except:\n",
    "    profile = driver.find_element('xpath','//*[@id=\"'+mountId+'\"]/div/div/div[2]/div/div/div[1]/div[1]/div[2]/div/div/div[2]/div/div/div[2]/div/div/div[2]/div/a[1]/div[1]/div/div/div[1]/div/div/object/a').click()\n",
    "    \n",
    "time.sleep(2)"
   ]
  },
  {
   "cell_type": "code",
   "execution_count": 11,
   "id": "ac75bcd0-e3d5-4389-8e74-f534ab9a07ce",
   "metadata": {},
   "outputs": [],
   "source": [
    "#clicks on our celebritie followers count, get followers\n",
    "try:\n",
    "    follower = driver.find_element('xpath','//*[@id=\"'+mountId+'\"]/div/div/div[2]/div/div/div[1]/div[2]/div/div[2]/section/main/div/header/section[3]/ul/li[2]').click()\n",
    "except:\n",
    "    follower = driver.find_element('xpath','//*[@id=\"'+mountId+'\"]/div/div/div[2]/div/div/div[1]/div[2]/div/div[1]/section/main/div/header/section[3]/ul/li[2]').click()\n",
    "    \n",
    "time.sleep(5)\n",
    "\n"
   ]
  },
  {
   "cell_type": "code",
   "execution_count": 12,
   "id": "c60369db-6d15-4e3c-a0b2-2d57052ff5f2",
   "metadata": {},
   "outputs": [
    {
     "data": {
      "text/plain": [
       "['chinmay_91_',\n",
       " 'promo._plus',\n",
       " 'cosmic.voyager777',\n",
       " 'ankitdo2050',\n",
       " 'tanush_somani',\n",
       " 'nial_gunanidhi',\n",
       " 'waveininfinity',\n",
       " 'ektaraj02',\n",
       " 'eve56_3',\n",
       " 'allabout.yashvii_',\n",
       " 'hkgoutammg',\n",
       " 'team10xpodcast',\n",
       " 'yashdubey.___',\n",
       " 'shreyapandey0085',\n",
       " 'sanskritisriram',\n",
       " 'khushisinghraput.18',\n",
       " 'aditya._you_',\n",
       " 'innumerous_aura',\n",
       " 'mostofa_i_aman',\n",
       " 'unsxriptedlife',\n",
       " 'kadakupdates',\n",
       " '__raoharsh777',\n",
       " 'sri_jita_05',\n",
       " 'skofficial.91',\n",
       " 'varshit.6',\n",
       " 'simplegirl2707__',\n",
       " 'aewoal_d26',\n",
       " 'businessworld741',\n",
       " 'mapyourcareerofficial',\n",
       " 'premlatalodha908',\n",
       " 'kanjimeda820',\n",
       " '_raiha_ahmed0',\n",
       " 'saurabhjaiswal101',\n",
       " 'ishitabhatia_',\n",
       " 'daanesh95',\n",
       " 'arpit_8918',\n",
       " 'groguwastaken3',\n",
       " 'nikith__kumar',\n",
       " 'bunny_1_45_',\n",
       " '_artiagrawal_',\n",
       " 'misanthrope.mee',\n",
       " 'king_of_khamla______',\n",
       " 'iamshreyanshmittal',\n",
       " 'harshasarla',\n",
       " 'thinkwithajeet',\n",
       " 'suri.saurbh',\n",
       " 'zikrafaisalniaz.1',\n",
       " 'shahidsyed2007',\n",
       " 'rangesh_soni_',\n",
       " 'sujan17738']"
      ]
     },
     "execution_count": 12,
     "metadata": {},
     "output_type": "execute_result"
    }
   ],
   "source": [
    "#Extract followers\n",
    "soup = BeautifulSoup(driver.page_source, 'lxml')\n",
    "followers = soup.find_all('span', class_ = '_ap3a _aaco _aacw _aacx _aad7 _aade')    \n",
    "followersTotal = []\n",
    "while True:\n",
    "    for follower in followers:\n",
    "        followersTotal.append(follower.text)\n",
    "        try:\n",
    "            element = driver.find_element(\"xpath\", \"/html/body/div[6]/div[2]/div/div/div[1]/div/div[2]/div/div/div/div/div[2]/div/div/div[3]\") \n",
    "        except:\n",
    "            element = driver.find_element(\"xpath\", \"/html/body/div[6]/div[2]/div/div/div[1]/div/div[2]/div/div/div/div/div[2]/div/div/div[2]\")\n",
    "    driver.execute_script(\"arguments[0].scrollTop = arguments[0].scrollHeight\", element)\n",
    "    time.sleep(1)\n",
    "    soup = BeautifulSoup(driver.page_source, 'lxml')\n",
    "    followers = soup.find_all('span', class_ = '_ap3a _aaco _aacw _aacx _aad7 _aade')     \n",
    "    followersTotal2 = list(set(followersTotal))\n",
    "    if len(followersTotal2) > numberOfFollowers:\n",
    "        break\n",
    "followersTotal = list(set(followersTotal))\n",
    "followersTotal"
   ]
  },
  {
   "cell_type": "code",
   "execution_count": 13,
   "id": "c9656596-7e59-46ae-91e4-9da3ae97cd60",
   "metadata": {},
   "outputs": [
    {
     "data": {
      "text/plain": [
       "['thethinkschool',\n",
       " 'sahiiljaiin',\n",
       " 'iamparitoshanand',\n",
       " 'harshhdhingra',\n",
       " 'twinkler_tonight',\n",
       " 'copartner.in',\n",
       " 'arjun_y_195',\n",
       " 'heyyi._omiii._',\n",
       " 'urjita_sheth',\n",
       " 'varshaa_mp',\n",
       " 'ear_lybird23',\n",
       " 'everythingtothemoon',\n",
       " 'anushreejain.in',\n",
       " 'spicy_queen280',\n",
       " 'may0.0rs',\n",
       " '_sumix_1012_']"
      ]
     },
     "execution_count": 13,
     "metadata": {},
     "output_type": "execute_result"
    }
   ],
   "source": [
    "#Click on any post.Extract person who commented on the opened post\n",
    "soup = BeautifulSoup(driver.page_source, 'lxml')\n",
    "\n",
    "Comments = soup.find_all('a', class_ = 'x1i10hfl xjqpnuy xa49m3k xqeqjp1 x2hbi6w xdl72j9 x2lah0s xe8uvvx xdj266r x11i5rnm xat24cr x1mh8g0r x2lwn1j xeuugli x1hl2dhg xggy1nq x1ja2u2z x1t137rt x1q0g3np x1lku1pv x1a2a7pz x6s0dn4 xjyslct x1ejq31n xd10rxx x1sy0etr x17r0tee x9f619 x1ypdohk x1f6kntn xwhw2v2 xl56j7k x17ydfre x2b8uid xlyipyv x87ps6o x14atkfc xcdnw81 x1i0vuye xjbqb8w xm3z3ea x1x8b98j x131883w x16mih1h x972fbf xcfux6l x1qhh985 xm0m39n xt0psk2 xt7dq6l xexx8yu x4uap5 x18d9i69 xkhd6sd x1n2onr6 x1n5bzlp xqnirrm xj34u2y x568u83') \n",
    "\n",
    "CommentsTotal = []\n",
    "for Comment in Comments:\n",
    "    CommentsTotal.append(Comment.text)\n",
    "CommentsTotal = list(set(CommentsTotal))\n",
    "CommentsTotal"
   ]
  },
  {
   "cell_type": "code",
   "execution_count": 14,
   "id": "ae8614f3-b34a-4ba8-bb0e-fb21062998bd",
   "metadata": {},
   "outputs": [
    {
     "data": {
      "text/plain": [
       "['shwetasingh3110',\n",
       " 'jugalshah0709',\n",
       " 'nannandann',\n",
       " 'the_sagacious_moron',\n",
       " 'apurva_1158',\n",
       " 'ashish.cruise',\n",
       " 'magicmike.18Verified',\n",
       " 'unreachable0001',\n",
       " 'hiten_jain9132',\n",
       " '@_ganeshprasad',\n",
       " '@saahasforpune',\n",
       " 'reeteshnigam_',\n",
       " 'tyson.john',\n",
       " 'nandyvro',\n",
       " 'khushitolia_08',\n",
       " 'navketanuppar',\n",
       " 'alokxbiebs',\n",
       " 'sarun.coorg',\n",
       " '_priyathakuri',\n",
       " 'preyas_joshi_',\n",
       " 'vaghasiyaaryann',\n",
       " '__prasad__31_',\n",
       " 'unnatijaiswal009',\n",
       " 'its.me_jitendra_']"
      ]
     },
     "execution_count": 14,
     "metadata": {},
     "output_type": "execute_result"
    }
   ],
   "source": [
    "#click on the number of likes .Extract username who liked  \n",
    "soup = BeautifulSoup(driver.page_source, 'lxml')\n",
    "Liked = soup.find_all('a', class_ = 'x1i10hfl xjbqb8w x1ejq31n xd10rxx x1sy0etr x17r0tee x972fbf xcfux6l x1qhh985 xm0m39n x9f619 x1ypdohk xt0psk2 xe8uvvx xdj266r x11i5rnm xat24cr x1mh8g0r xexx8yu x4uap5 x18d9i69 xkhd6sd x16tdsg8 x1hl2dhg xggy1nq x1a2a7pz notranslate _a6hd') \n",
    "LikeTotal = []\n",
    "count = 0\n",
    "while True:\n",
    "    for like in Liked:\n",
    "        LikeTotal.append(like.text)\n",
    "        try:\n",
    "            element = driver.find_element(\"xpath\", \"/html/body/div[7]/div[2]/div/div/div[1]/div/div[2]/div/div/div/div/div[2]/div/div[2]/div\")\n",
    "        except:\n",
    "            try:\n",
    "                element = driver.find_element(\"xpath\", \"/html/body/div[8]/div[2]/div/div/div[1]/div/div[2]/div/div/div/div/div[2]/div/div[2]/div\")\n",
    "            except:\n",
    "                element = driver.find_element(\"xpath\", \"/html/body/div[8]/div[2]/div/div/div[1]/div/div[2]/div/div/div/div/div[2]/div/div[2]/div\")\n",
    "                try:\n",
    "                    element = driver.find_element(\"xpath\", \"/html/body/div[7]/div[2]/div/div/div[1]/div/div[2]/div/div/div/div/div[2]/div/div[2]/div\")\n",
    "                except:\n",
    "                    element = driver.find_element(\"xpath\", \"/html/body/div[7]/div[2]/div/div/div[1]/div/div[2]/div/div/div/div/div[2]/div/div[2]/div\")\n",
    "                 \n",
    "    #element = driver.find_element(\"xpath\", \"/html/body/div[8]/div[2]/div/div/div[1]/div/div[2]/div/div/div/div/div[2]/div/div[2]/div\")  \n",
    "    driver.execute_script(\"arguments[0].scrollTop = arguments[0].scrollHeight\", element)\n",
    "    time.sleep(1)\n",
    "    soup = BeautifulSoup(driver.page_source, 'lxml')\n",
    "    Liked = soup.find_all('a', class_ = 'x1i10hfl xjbqb8w x1ejq31n xd10rxx x1sy0etr x17r0tee x972fbf xcfux6l x1qhh985 xm0m39n x9f619 x1ypdohk xt0psk2 xe8uvvx xdj266r x11i5rnm xat24cr x1mh8g0r xexx8yu x4uap5 x18d9i69 xkhd6sd x16tdsg8 x1hl2dhg xggy1nq x1a2a7pz notranslate _a6hd') \n",
    "    LikeTotal2 = list(set(LikeTotal))\n",
    "    count+=1\n",
    "    if count > 5:\n",
    "        break\n",
    "LikeTotal = list(set(LikeTotal))\n",
    "LikeTotal\n",
    "\n",
    "# logic need to improve"
   ]
  },
  {
   "cell_type": "code",
   "execution_count": 68,
   "id": "27c8d18a-95c6-4113-b1c9-1403e519b6c9",
   "metadata": {},
   "outputs": [
    {
     "ename": "NoSuchElementException",
     "evalue": "Message: no such element: Unable to locate element: {\"method\":\"xpath\",\"selector\":\"//*[@id=\"mount_0_0_nm\"]/div/div/div[2]/div/div/div[1]/div[1]/div[2]/section/div/div/div/div[1]/div/div[2]/div/div/div/div/div/div/div[2]/div/div/div[2]/div/div/div[2]/div/div[1]/p\"}\n  (Session info: chrome=126.0.6478.127); For documentation on this error, please visit: https://www.selenium.dev/documentation/webdriver/troubleshooting/errors#no-such-element-exception\nStacktrace:\n\tGetHandleVerifier [0x00007FF6BE30EEA2+31554]\n\t(No symbol) [0x00007FF6BE287ED9]\n\t(No symbol) [0x00007FF6BE14872A]\n\t(No symbol) [0x00007FF6BE198434]\n\t(No symbol) [0x00007FF6BE19853C]\n\t(No symbol) [0x00007FF6BE1DF6A7]\n\t(No symbol) [0x00007FF6BE1BD06F]\n\t(No symbol) [0x00007FF6BE1DC977]\n\t(No symbol) [0x00007FF6BE1BCDD3]\n\t(No symbol) [0x00007FF6BE18A33B]\n\t(No symbol) [0x00007FF6BE18AED1]\n\tGetHandleVerifier [0x00007FF6BE618B1D+3217341]\n\tGetHandleVerifier [0x00007FF6BE665AE3+3532675]\n\tGetHandleVerifier [0x00007FF6BE65B0E0+3489152]\n\tGetHandleVerifier [0x00007FF6BE3BE776+750614]\n\t(No symbol) [0x00007FF6BE29375F]\n\t(No symbol) [0x00007FF6BE28EB14]\n\t(No symbol) [0x00007FF6BE28ECA2]\n\t(No symbol) [0x00007FF6BE27E16F]\n\tBaseThreadInitThunk [0x00007FFB5E907034+20]\n\tRtlUserThreadStart [0x00007FFB5F762651+33]\n",
     "output_type": "error",
     "traceback": [
      "\u001b[1;31m---------------------------------------------------------------------------\u001b[0m",
      "\u001b[1;31mNoSuchElementException\u001b[0m                    Traceback (most recent call last)",
      "Cell \u001b[1;32mIn[68], line 27\u001b[0m\n\u001b[0;32m     24\u001b[0m chatButton\u001b[38;5;241m.\u001b[39mclick()\n\u001b[0;32m     25\u001b[0m time\u001b[38;5;241m.\u001b[39msleep(\u001b[38;5;241m2\u001b[39m)\n\u001b[1;32m---> 27\u001b[0m messageTextFiels \u001b[38;5;241m=\u001b[39m \u001b[43mdriver\u001b[49m\u001b[38;5;241;43m.\u001b[39;49m\u001b[43mfind_element\u001b[49m\u001b[43m(\u001b[49m\u001b[38;5;124;43m'\u001b[39;49m\u001b[38;5;124;43mxpath\u001b[39;49m\u001b[38;5;124;43m'\u001b[39;49m\u001b[43m,\u001b[49m\u001b[38;5;124;43m'\u001b[39;49m\u001b[38;5;124;43m//*[@id=\u001b[39;49m\u001b[38;5;124;43m\"\u001b[39;49m\u001b[38;5;124;43m'\u001b[39;49m\u001b[38;5;241;43m+\u001b[39;49m\u001b[43mmountId\u001b[49m\u001b[38;5;241;43m+\u001b[39;49m\u001b[38;5;124;43m'\u001b[39;49m\u001b[38;5;124;43m\"\u001b[39;49m\u001b[38;5;124;43m]/div/div/div[2]/div/div/div[1]/div[1]/div[2]/section/div/div/div/div[1]/div/div[2]/div/div/div/div/div/div/div[2]/div/div/div[2]/div/div/div[2]/div/div[1]/p\u001b[39;49m\u001b[38;5;124;43m'\u001b[39;49m\u001b[43m)\u001b[49m\n\u001b[0;32m     28\u001b[0m messageTextFiels\u001b[38;5;241m.\u001b[39msend_keys(message[counter])\n\u001b[0;32m     29\u001b[0m time\u001b[38;5;241m.\u001b[39msleep(\u001b[38;5;241m2\u001b[39m)\n",
      "File \u001b[1;32m~\\AppData\\Local\\Programs\\Python\\Python312\\Lib\\site-packages\\selenium\\webdriver\\remote\\webdriver.py:748\u001b[0m, in \u001b[0;36mWebDriver.find_element\u001b[1;34m(self, by, value)\u001b[0m\n\u001b[0;32m    745\u001b[0m     by \u001b[38;5;241m=\u001b[39m By\u001b[38;5;241m.\u001b[39mCSS_SELECTOR\n\u001b[0;32m    746\u001b[0m     value \u001b[38;5;241m=\u001b[39m \u001b[38;5;124mf\u001b[39m\u001b[38;5;124m'\u001b[39m\u001b[38;5;124m[name=\u001b[39m\u001b[38;5;124m\"\u001b[39m\u001b[38;5;132;01m{\u001b[39;00mvalue\u001b[38;5;132;01m}\u001b[39;00m\u001b[38;5;124m\"\u001b[39m\u001b[38;5;124m]\u001b[39m\u001b[38;5;124m'\u001b[39m\n\u001b[1;32m--> 748\u001b[0m \u001b[38;5;28;01mreturn\u001b[39;00m \u001b[38;5;28;43mself\u001b[39;49m\u001b[38;5;241;43m.\u001b[39;49m\u001b[43mexecute\u001b[49m\u001b[43m(\u001b[49m\u001b[43mCommand\u001b[49m\u001b[38;5;241;43m.\u001b[39;49m\u001b[43mFIND_ELEMENT\u001b[49m\u001b[43m,\u001b[49m\u001b[43m \u001b[49m\u001b[43m{\u001b[49m\u001b[38;5;124;43m\"\u001b[39;49m\u001b[38;5;124;43musing\u001b[39;49m\u001b[38;5;124;43m\"\u001b[39;49m\u001b[43m:\u001b[49m\u001b[43m \u001b[49m\u001b[43mby\u001b[49m\u001b[43m,\u001b[49m\u001b[43m \u001b[49m\u001b[38;5;124;43m\"\u001b[39;49m\u001b[38;5;124;43mvalue\u001b[39;49m\u001b[38;5;124;43m\"\u001b[39;49m\u001b[43m:\u001b[49m\u001b[43m \u001b[49m\u001b[43mvalue\u001b[49m\u001b[43m}\u001b[49m\u001b[43m)\u001b[49m[\u001b[38;5;124m\"\u001b[39m\u001b[38;5;124mvalue\u001b[39m\u001b[38;5;124m\"\u001b[39m]\n",
      "File \u001b[1;32m~\\AppData\\Local\\Programs\\Python\\Python312\\Lib\\site-packages\\selenium\\webdriver\\remote\\webdriver.py:354\u001b[0m, in \u001b[0;36mWebDriver.execute\u001b[1;34m(self, driver_command, params)\u001b[0m\n\u001b[0;32m    352\u001b[0m response \u001b[38;5;241m=\u001b[39m \u001b[38;5;28mself\u001b[39m\u001b[38;5;241m.\u001b[39mcommand_executor\u001b[38;5;241m.\u001b[39mexecute(driver_command, params)\n\u001b[0;32m    353\u001b[0m \u001b[38;5;28;01mif\u001b[39;00m response:\n\u001b[1;32m--> 354\u001b[0m     \u001b[38;5;28;43mself\u001b[39;49m\u001b[38;5;241;43m.\u001b[39;49m\u001b[43merror_handler\u001b[49m\u001b[38;5;241;43m.\u001b[39;49m\u001b[43mcheck_response\u001b[49m\u001b[43m(\u001b[49m\u001b[43mresponse\u001b[49m\u001b[43m)\u001b[49m\n\u001b[0;32m    355\u001b[0m     response[\u001b[38;5;124m\"\u001b[39m\u001b[38;5;124mvalue\u001b[39m\u001b[38;5;124m\"\u001b[39m] \u001b[38;5;241m=\u001b[39m \u001b[38;5;28mself\u001b[39m\u001b[38;5;241m.\u001b[39m_unwrap_value(response\u001b[38;5;241m.\u001b[39mget(\u001b[38;5;124m\"\u001b[39m\u001b[38;5;124mvalue\u001b[39m\u001b[38;5;124m\"\u001b[39m, \u001b[38;5;28;01mNone\u001b[39;00m))\n\u001b[0;32m    356\u001b[0m     \u001b[38;5;28;01mreturn\u001b[39;00m response\n",
      "File \u001b[1;32m~\\AppData\\Local\\Programs\\Python\\Python312\\Lib\\site-packages\\selenium\\webdriver\\remote\\errorhandler.py:229\u001b[0m, in \u001b[0;36mErrorHandler.check_response\u001b[1;34m(self, response)\u001b[0m\n\u001b[0;32m    227\u001b[0m         alert_text \u001b[38;5;241m=\u001b[39m value[\u001b[38;5;124m\"\u001b[39m\u001b[38;5;124malert\u001b[39m\u001b[38;5;124m\"\u001b[39m]\u001b[38;5;241m.\u001b[39mget(\u001b[38;5;124m\"\u001b[39m\u001b[38;5;124mtext\u001b[39m\u001b[38;5;124m\"\u001b[39m)\n\u001b[0;32m    228\u001b[0m     \u001b[38;5;28;01mraise\u001b[39;00m exception_class(message, screen, stacktrace, alert_text)  \u001b[38;5;66;03m# type: ignore[call-arg]  # mypy is not smart enough here\u001b[39;00m\n\u001b[1;32m--> 229\u001b[0m \u001b[38;5;28;01mraise\u001b[39;00m exception_class(message, screen, stacktrace)\n",
      "\u001b[1;31mNoSuchElementException\u001b[0m: Message: no such element: Unable to locate element: {\"method\":\"xpath\",\"selector\":\"//*[@id=\"mount_0_0_nm\"]/div/div/div[2]/div/div/div[1]/div[1]/div[2]/section/div/div/div/div[1]/div/div[2]/div/div/div/div/div/div/div[2]/div/div/div[2]/div/div/div[2]/div/div[1]/p\"}\n  (Session info: chrome=126.0.6478.127); For documentation on this error, please visit: https://www.selenium.dev/documentation/webdriver/troubleshooting/errors#no-such-element-exception\nStacktrace:\n\tGetHandleVerifier [0x00007FF6BE30EEA2+31554]\n\t(No symbol) [0x00007FF6BE287ED9]\n\t(No symbol) [0x00007FF6BE14872A]\n\t(No symbol) [0x00007FF6BE198434]\n\t(No symbol) [0x00007FF6BE19853C]\n\t(No symbol) [0x00007FF6BE1DF6A7]\n\t(No symbol) [0x00007FF6BE1BD06F]\n\t(No symbol) [0x00007FF6BE1DC977]\n\t(No symbol) [0x00007FF6BE1BCDD3]\n\t(No symbol) [0x00007FF6BE18A33B]\n\t(No symbol) [0x00007FF6BE18AED1]\n\tGetHandleVerifier [0x00007FF6BE618B1D+3217341]\n\tGetHandleVerifier [0x00007FF6BE665AE3+3532675]\n\tGetHandleVerifier [0x00007FF6BE65B0E0+3489152]\n\tGetHandleVerifier [0x00007FF6BE3BE776+750614]\n\t(No symbol) [0x00007FF6BE29375F]\n\t(No symbol) [0x00007FF6BE28EB14]\n\t(No symbol) [0x00007FF6BE28ECA2]\n\t(No symbol) [0x00007FF6BE27E16F]\n\tBaseThreadInitThunk [0x00007FFB5E907034+20]\n\tRtlUserThreadStart [0x00007FFB5F762651+33]\n"
     ]
    }
   ],
   "source": [
    "#msg sending\n",
    "username = ['a_v_i_k__g_h_o_s_h','husain_shan_']\n",
    "message = ['hi,are you in a need of a personal website?','hi,are you in a need of a personal website?']\n",
    "counter = 0\n",
    "\n",
    "while counter < len(username) :\n",
    "    messageButton = driver.find_element('xpath','//*[@id=\"'+mountId+'\"]/div/div/div[2]/div/div/div[1]/div[1]/div[1]/div/div/div/div/div[2]/div[5]/div/div/span/div/a/div')\n",
    "    messageButton.click()\n",
    "    time.sleep(2)\n",
    "    \n",
    "    sendMsgButton = driver.find_element('xpath','//*[@id=\"'+mountId+'\"]/div/div/div[2]/div/div/div[1]/div[1]/div[2]/section/div/div/div/div[1]/div/div[2]/div/div/div/div[4]')\n",
    "    sendMsgButton.click()\n",
    "    time.sleep(2)\n",
    "    \n",
    "    usernameTextFiels = driver.find_element('xpath','/html/body/div[6]/div[1]/div/div[2]/div/div/div/div/div/div/div[1]/div/div[2]/div/div[2]/input')\n",
    "    usernameTextFiels.send_keys(username[counter])\n",
    "    time.sleep(5)\n",
    "    \n",
    "    userSelectButton = driver.find_element('xpath','/html/body/div[6]/div[1]/div/div[2]/div/div/div/div/div/div/div[1]/div/div[3]/div/div/div[1]/div[1]/div/div')\n",
    "    userSelectButton.click()\n",
    "    time.sleep(2)\n",
    "    \n",
    "    chatButton = driver.find_element('xpath','/html/body/div[6]/div[1]/div/div[2]/div/div/div/div/div/div/div[1]/div/div[4]/div')\n",
    "    chatButton.click()\n",
    "    time.sleep(2)\n",
    "    \n",
    "    messageTextFiels = driver.find_element('xpath','//*[@id=\"'+mountId+'\"]/div/div/div[2]/div/div/div[1]/div[1]/div[2]/section/div/div/div/div[1]/div/div[2]/div/div/div/div/div/div/div[2]/div/div/div[2]/div/div/div[2]/div/div[1]/p')\n",
    "    messageTextFiels.send_keys(message[counter])\n",
    "    time.sleep(2)\n",
    "    \n",
    "    sendButton = driver.find_element('xpath','//*[@id=\"'+mountId+'\"]/div/div/div[2]/div/div/div[1]/div[1]/div[2]/section/div/div/div/div[1]/div/div[2]/div/div/div/div/div/div/div[2]/div/div/div[3]/div/div/div[3]')\n",
    "    sendButton.click()    \n",
    "    counter+=1\n",
    "print('completed')\n"
   ]
  },
  {
   "cell_type": "code",
   "execution_count": 28,
   "id": "e76f7665-30e0-426a-a83d-df9c66ab7364",
   "metadata": {},
   "outputs": [
    {
     "name": "stdout",
     "output_type": "stream",
     "text": [
      "An exception occurred\n",
      "2nd exception\n",
      "finally\n"
     ]
    }
   ],
   "source": [
    "try:\n",
    "    print(x)\n",
    "except:\n",
    "    print(\"An exception occurred\")\n",
    "    try:\n",
    "        print(y)\n",
    "    except:\n",
    "        print(\"2nd exception\")\n",
    "finally:\n",
    "    print(\"finally\")"
   ]
  },
  {
   "cell_type": "code",
   "execution_count": 15,
   "id": "d6fcfd4d-6746-41d3-a0df-656bb8295566",
   "metadata": {},
   "outputs": [],
   "source": [
    "# click on homepage\n",
    "try:\n",
    "    messageButton = driver.find_element('xpath','//*[@id=\"'+mountId+'\"]/div/div/div[2]/div/div/div[1]/div[1]/div[1]/div/div/div/div/div[2]/div[5]/div/div/span/div/a/div')\n",
    "except:     \n",
    "    messageButton = driver.find_element('xpath','//*[@id=\"'+mountId+'\"]/div/div/div[2]/div/div/div[1]/div[1]/div[2]/div/div/div/div/div[2]/div[5]/div/div/span/div/a/div/div/div')\n",
    "    \n",
    "messageButton.click()\n",
    "time.sleep(2)"
   ]
  },
  {
   "cell_type": "code",
   "execution_count": 16,
   "id": "e779a997-2898-4f1c-ab8a-1a5954197d7e",
   "metadata": {},
   "outputs": [],
   "source": [
    "try:\n",
    "    sendMsgButton = driver.find_element('xpath','//*[@id=\"'+mountId+'\"]/html/body/div[8]/div[1]/div/div[2]/div/div/div/div/div/div/div[1]/div/div[2]/div/div[2]/input')\n",
    "except:\n",
    "    sendMsgButton = driver.find_element('xpath','//*[@id=\"'+mountId+'\"]/div/div/div[2]/div/div/div[1]/div[1]/div[1]/section/main/section/div/div/div/div[1]/div/div[2]/div/div/div/div[4]/div')\n",
    "    \n",
    "sendMsgButton.click()\n",
    "time.sleep(2)"
   ]
  },
  {
   "cell_type": "code",
   "execution_count": 17,
   "id": "85222fc3-387d-43db-93af-f9160a7af921",
   "metadata": {},
   "outputs": [],
   "source": [
    "try:\n",
    "    usernameTextFiels = driver.find_element('xpath','/html/body/div[8]/div[1]/div/div[2]/div/div/div/div/div/div/div[1]/div/div[2]/div/div[2]/input')\n",
    "except:\n",
    "    usernameTextFiels = driver.find_element('xpath','/html/body/div[7]/div[1]/div/div[2]/div/div/div/div/div/div/div[1]/div/div[2]/div/div[2]/input')\n",
    "usernameTextFiels.send_keys('souvik')\n",
    "#   usernameTextFiels.send_keys(username[counter])\n",
    "time.sleep(5)"
   ]
  },
  {
   "cell_type": "code",
   "execution_count": 20,
   "id": "f166b565-775c-4110-ab28-07726b37fd9c",
   "metadata": {},
   "outputs": [],
   "source": [
    "userSelectButton = driver.find_element('xpath','/html/body/div[8]/div[1]/div/div[2]/div/div/div/div/div/div/div[1]/div/div[3]/div/div[2]/div[1]/div/div/div[2]/div/div')\n",
    "userSelectButton.click()\n",
    "time.sleep(2)"
   ]
  },
  {
   "cell_type": "code",
   "execution_count": 21,
   "id": "3ddd3b9c-5e76-4cf9-b4a9-2c505d43b167",
   "metadata": {},
   "outputs": [],
   "source": [
    "try:\n",
    "    chatButton = driver.find_element('xpath','/html/body/div[8]/div[1]/div/div[2]/div/div/div/div/div/div/div[1]/div/div[4]/div')\n",
    "except:\n",
    "    chatButton = driver.find_element('xpath','/html/body/div[7]/div[1]/div/div[2]/div/div/div/div/div/div/div[1]/div/div[4]/div')\n",
    "chatButton.click()\n",
    "time.sleep(2)"
   ]
  },
  {
   "cell_type": "code",
   "execution_count": 23,
   "id": "683d9926-d107-401f-bd8d-2e4376b14d79",
   "metadata": {},
   "outputs": [],
   "source": [
    "try:\n",
    "    messageTextFiels = driver.find_element('xpath','//*[@id=\"'+mountId+'\"]/div/div/div[2]/div/div/div[1]/div[1]/div[1]/section/main/section/div/div/div/div[1]/div/div[2]/div/div/div/div/div/div/div[2]/div/div/div[3]/div/div/div[2]/div/div[1]/p')\n",
    "except:\n",
    "    messageTextFiels = driver.find_element('xpath','//*[@id=\"'+mountId+'\"]/div/div/div[2]/div/div/div[1]/div[1]/div[1]/section/main/section/div/div/div/div[1]/div/div[2]/div/div/div/div/div/div/div[2]/div/div/div[2]/div/div/div[2]/div/div[1]/p')\n",
    "    \n",
    "messageTextFiels.send_keys('Hi there, I am willing to make a full custom SEO optimised website for you that can convert visitors into clients, pay only if you liked it. How it sounds?')\n",
    "time.sleep(2)"
   ]
  },
  {
   "cell_type": "code",
   "execution_count": 25,
   "id": "e699884c-9c27-48c5-926f-56946d4c89ef",
   "metadata": {},
   "outputs": [],
   "source": [
    "try:\n",
    "    sendButton = driver.find_element('xpath','//*[@id=\"'+mountId+'\"]/div/div/div[2]/div/div/div[1]/div[1]/div[1]/section/main/section/div/div/div/div[1]/div/div[2]/div/div/div/div/div/div/div[2]/div/div/div[3]/div/div/div[3]')\n",
    "except: \n",
    "    sendButton = driver.find_element('xpath','//*[@id=\"'+mountId+'\"]/div/div/div[2]/div/div/div[1]/div[1]/div[2]/section/main/section/div/div/div/div[1]/div/div[2]/div/div/div/div/div/div/div[2]/div/div/div[2]/div/div/div[3]')    \n",
    "sendButton.click()    \n",
    "#counter+=1"
   ]
  },
  {
   "cell_type": "code",
   "execution_count": 26,
   "id": "9af298ce-d9be-4ddc-98ae-683c54d3d252",
   "metadata": {},
   "outputs": [
    {
     "name": "stdout",
     "output_type": "stream",
     "text": [
      "message sentpreyas_joshi_\n"
     ]
    },
    {
     "ename": "NoSuchElementException",
     "evalue": "Message: no such element: Unable to locate element: {\"method\":\"xpath\",\"selector\":\"/html/body/div[8]/div[1]/div/div[2]/div/div/div/div/div/div/div[1]/div/div[3]/div/div/div[1]/div[1]\"}\n  (Session info: chrome=129.0.6668.90); For documentation on this error, please visit: https://www.selenium.dev/documentation/webdriver/troubleshooting/errors#no-such-element-exception\nStacktrace:\n\tGetHandleVerifier [0x00007FF70BC1B645+29573]\n\t(No symbol) [0x00007FF70BB90470]\n\t(No symbol) [0x00007FF70BA4B6EA]\n\t(No symbol) [0x00007FF70BA9F815]\n\t(No symbol) [0x00007FF70BA9FA6C]\n\t(No symbol) [0x00007FF70BAEB917]\n\t(No symbol) [0x00007FF70BAC733F]\n\t(No symbol) [0x00007FF70BAE86BC]\n\t(No symbol) [0x00007FF70BAC70A3]\n\t(No symbol) [0x00007FF70BA912DF]\n\t(No symbol) [0x00007FF70BA92441]\n\tGetHandleVerifier [0x00007FF70BF4C58D+3375821]\n\tGetHandleVerifier [0x00007FF70BF97987+3684039]\n\tGetHandleVerifier [0x00007FF70BF8CDAB+3640043]\n\tGetHandleVerifier [0x00007FF70BCDB7C6+816390]\n\t(No symbol) [0x00007FF70BB9B77F]\n\t(No symbol) [0x00007FF70BB975A4]\n\t(No symbol) [0x00007FF70BB97740]\n\t(No symbol) [0x00007FF70BB8659F]\n\tBaseThreadInitThunk [0x00007FF8ED887374+20]\n\tRtlUserThreadStart [0x00007FF8EDF7CC91+33]\n",
     "output_type": "error",
     "traceback": [
      "\u001b[1;31m---------------------------------------------------------------------------\u001b[0m",
      "\u001b[1;31mNoSuchElementException\u001b[0m                    Traceback (most recent call last)",
      "Cell \u001b[1;32mIn[26], line 32\u001b[0m\n\u001b[0;32m     31\u001b[0m \u001b[38;5;28;01mtry\u001b[39;00m:\n\u001b[1;32m---> 32\u001b[0m     userSelectButton \u001b[38;5;241m=\u001b[39m \u001b[43mdriver\u001b[49m\u001b[38;5;241;43m.\u001b[39;49m\u001b[43mfind_element\u001b[49m\u001b[43m(\u001b[49m\u001b[38;5;124;43m'\u001b[39;49m\u001b[38;5;124;43mxpath\u001b[39;49m\u001b[38;5;124;43m'\u001b[39;49m\u001b[43m,\u001b[49m\u001b[38;5;124;43m'\u001b[39;49m\u001b[38;5;124;43m/html/body/div[8]/div[1]/div/div[2]/div/div/div/div/div/div/div[1]/div/div[3]/div/div[2]/div[1]/div/div/div[2]/div/div\u001b[39;49m\u001b[38;5;124;43m'\u001b[39;49m\u001b[43m)\u001b[49m\n\u001b[0;32m     33\u001b[0m \u001b[38;5;28;01mexcept\u001b[39;00m:\n",
      "File \u001b[1;32me:\\python\\Lib\\site-packages\\selenium\\webdriver\\remote\\webdriver.py:748\u001b[0m, in \u001b[0;36mWebDriver.find_element\u001b[1;34m(self, by, value)\u001b[0m\n\u001b[0;32m    746\u001b[0m     value \u001b[38;5;241m=\u001b[39m \u001b[38;5;124mf\u001b[39m\u001b[38;5;124m'\u001b[39m\u001b[38;5;124m[name=\u001b[39m\u001b[38;5;124m\"\u001b[39m\u001b[38;5;132;01m{\u001b[39;00mvalue\u001b[38;5;132;01m}\u001b[39;00m\u001b[38;5;124m\"\u001b[39m\u001b[38;5;124m]\u001b[39m\u001b[38;5;124m'\u001b[39m\n\u001b[1;32m--> 748\u001b[0m \u001b[38;5;28;01mreturn\u001b[39;00m \u001b[38;5;28;43mself\u001b[39;49m\u001b[38;5;241;43m.\u001b[39;49m\u001b[43mexecute\u001b[49m\u001b[43m(\u001b[49m\u001b[43mCommand\u001b[49m\u001b[38;5;241;43m.\u001b[39;49m\u001b[43mFIND_ELEMENT\u001b[49m\u001b[43m,\u001b[49m\u001b[43m \u001b[49m\u001b[43m{\u001b[49m\u001b[38;5;124;43m\"\u001b[39;49m\u001b[38;5;124;43musing\u001b[39;49m\u001b[38;5;124;43m\"\u001b[39;49m\u001b[43m:\u001b[49m\u001b[43m \u001b[49m\u001b[43mby\u001b[49m\u001b[43m,\u001b[49m\u001b[43m \u001b[49m\u001b[38;5;124;43m\"\u001b[39;49m\u001b[38;5;124;43mvalue\u001b[39;49m\u001b[38;5;124;43m\"\u001b[39;49m\u001b[43m:\u001b[49m\u001b[43m \u001b[49m\u001b[43mvalue\u001b[49m\u001b[43m}\u001b[49m\u001b[43m)\u001b[49m[\u001b[38;5;124m\"\u001b[39m\u001b[38;5;124mvalue\u001b[39m\u001b[38;5;124m\"\u001b[39m]\n",
      "File \u001b[1;32me:\\python\\Lib\\site-packages\\selenium\\webdriver\\remote\\webdriver.py:354\u001b[0m, in \u001b[0;36mWebDriver.execute\u001b[1;34m(self, driver_command, params)\u001b[0m\n\u001b[0;32m    353\u001b[0m \u001b[38;5;28;01mif\u001b[39;00m response:\n\u001b[1;32m--> 354\u001b[0m     \u001b[38;5;28;43mself\u001b[39;49m\u001b[38;5;241;43m.\u001b[39;49m\u001b[43merror_handler\u001b[49m\u001b[38;5;241;43m.\u001b[39;49m\u001b[43mcheck_response\u001b[49m\u001b[43m(\u001b[49m\u001b[43mresponse\u001b[49m\u001b[43m)\u001b[49m\n\u001b[0;32m    355\u001b[0m     response[\u001b[38;5;124m\"\u001b[39m\u001b[38;5;124mvalue\u001b[39m\u001b[38;5;124m\"\u001b[39m] \u001b[38;5;241m=\u001b[39m \u001b[38;5;28mself\u001b[39m\u001b[38;5;241m.\u001b[39m_unwrap_value(response\u001b[38;5;241m.\u001b[39mget(\u001b[38;5;124m\"\u001b[39m\u001b[38;5;124mvalue\u001b[39m\u001b[38;5;124m\"\u001b[39m, \u001b[38;5;28;01mNone\u001b[39;00m))\n",
      "File \u001b[1;32me:\\python\\Lib\\site-packages\\selenium\\webdriver\\remote\\errorhandler.py:229\u001b[0m, in \u001b[0;36mErrorHandler.check_response\u001b[1;34m(self, response)\u001b[0m\n\u001b[0;32m    228\u001b[0m     \u001b[38;5;28;01mraise\u001b[39;00m exception_class(message, screen, stacktrace, alert_text)  \u001b[38;5;66;03m# type: ignore[call-arg]  # mypy is not smart enough here\u001b[39;00m\n\u001b[1;32m--> 229\u001b[0m \u001b[38;5;28;01mraise\u001b[39;00m exception_class(message, screen, stacktrace)\n",
      "\u001b[1;31mNoSuchElementException\u001b[0m: Message: no such element: Unable to locate element: {\"method\":\"xpath\",\"selector\":\"/html/body/div[8]/div[1]/div/div[2]/div/div/div/div/div/div/div[1]/div/div[3]/div/div[2]/div[1]/div/div/div[2]/div/div\"}\n  (Session info: chrome=129.0.6668.90); For documentation on this error, please visit: https://www.selenium.dev/documentation/webdriver/troubleshooting/errors#no-such-element-exception\nStacktrace:\n\tGetHandleVerifier [0x00007FF70BC1B645+29573]\n\t(No symbol) [0x00007FF70BB90470]\n\t(No symbol) [0x00007FF70BA4B6EA]\n\t(No symbol) [0x00007FF70BA9F815]\n\t(No symbol) [0x00007FF70BA9FA6C]\n\t(No symbol) [0x00007FF70BAEB917]\n\t(No symbol) [0x00007FF70BAC733F]\n\t(No symbol) [0x00007FF70BAE86BC]\n\t(No symbol) [0x00007FF70BAC70A3]\n\t(No symbol) [0x00007FF70BA912DF]\n\t(No symbol) [0x00007FF70BA92441]\n\tGetHandleVerifier [0x00007FF70BF4C58D+3375821]\n\tGetHandleVerifier [0x00007FF70BF97987+3684039]\n\tGetHandleVerifier [0x00007FF70BF8CDAB+3640043]\n\tGetHandleVerifier [0x00007FF70BCDB7C6+816390]\n\t(No symbol) [0x00007FF70BB9B77F]\n\t(No symbol) [0x00007FF70BB975A4]\n\t(No symbol) [0x00007FF70BB97740]\n\t(No symbol) [0x00007FF70BB8659F]\n\tBaseThreadInitThunk [0x00007FF8ED887374+20]\n\tRtlUserThreadStart [0x00007FF8EDF7CC91+33]\n",
      "\nDuring handling of the above exception, another exception occurred:\n",
      "\u001b[1;31mNoSuchElementException\u001b[0m                    Traceback (most recent call last)",
      "Cell \u001b[1;32mIn[26], line 35\u001b[0m\n\u001b[0;32m     34\u001b[0m \u001b[38;5;28;01mtry\u001b[39;00m:\n\u001b[1;32m---> 35\u001b[0m     userSelectButton \u001b[38;5;241m=\u001b[39m \u001b[43mdriver\u001b[49m\u001b[38;5;241;43m.\u001b[39;49m\u001b[43mfind_element\u001b[49m\u001b[43m(\u001b[49m\u001b[38;5;124;43m'\u001b[39;49m\u001b[38;5;124;43mxpath\u001b[39;49m\u001b[38;5;124;43m'\u001b[39;49m\u001b[43m,\u001b[49m\u001b[38;5;124;43m'\u001b[39;49m\u001b[38;5;124;43m/html/body/div[7]/div[1]/div/div[2]/div/div/div/div/div/div/div[1]/div/div[3]/div/div/div[1]/div[1]\u001b[39;49m\u001b[38;5;124;43m'\u001b[39;49m\u001b[43m)\u001b[49m\n\u001b[0;32m     36\u001b[0m \u001b[38;5;28;01mexcept\u001b[39;00m:\n",
      "File \u001b[1;32me:\\python\\Lib\\site-packages\\selenium\\webdriver\\remote\\webdriver.py:748\u001b[0m, in \u001b[0;36mWebDriver.find_element\u001b[1;34m(self, by, value)\u001b[0m\n\u001b[0;32m    746\u001b[0m     value \u001b[38;5;241m=\u001b[39m \u001b[38;5;124mf\u001b[39m\u001b[38;5;124m'\u001b[39m\u001b[38;5;124m[name=\u001b[39m\u001b[38;5;124m\"\u001b[39m\u001b[38;5;132;01m{\u001b[39;00mvalue\u001b[38;5;132;01m}\u001b[39;00m\u001b[38;5;124m\"\u001b[39m\u001b[38;5;124m]\u001b[39m\u001b[38;5;124m'\u001b[39m\n\u001b[1;32m--> 748\u001b[0m \u001b[38;5;28;01mreturn\u001b[39;00m \u001b[38;5;28;43mself\u001b[39;49m\u001b[38;5;241;43m.\u001b[39;49m\u001b[43mexecute\u001b[49m\u001b[43m(\u001b[49m\u001b[43mCommand\u001b[49m\u001b[38;5;241;43m.\u001b[39;49m\u001b[43mFIND_ELEMENT\u001b[49m\u001b[43m,\u001b[49m\u001b[43m \u001b[49m\u001b[43m{\u001b[49m\u001b[38;5;124;43m\"\u001b[39;49m\u001b[38;5;124;43musing\u001b[39;49m\u001b[38;5;124;43m\"\u001b[39;49m\u001b[43m:\u001b[49m\u001b[43m \u001b[49m\u001b[43mby\u001b[49m\u001b[43m,\u001b[49m\u001b[43m \u001b[49m\u001b[38;5;124;43m\"\u001b[39;49m\u001b[38;5;124;43mvalue\u001b[39;49m\u001b[38;5;124;43m\"\u001b[39;49m\u001b[43m:\u001b[49m\u001b[43m \u001b[49m\u001b[43mvalue\u001b[49m\u001b[43m}\u001b[49m\u001b[43m)\u001b[49m[\u001b[38;5;124m\"\u001b[39m\u001b[38;5;124mvalue\u001b[39m\u001b[38;5;124m\"\u001b[39m]\n",
      "File \u001b[1;32me:\\python\\Lib\\site-packages\\selenium\\webdriver\\remote\\webdriver.py:354\u001b[0m, in \u001b[0;36mWebDriver.execute\u001b[1;34m(self, driver_command, params)\u001b[0m\n\u001b[0;32m    353\u001b[0m \u001b[38;5;28;01mif\u001b[39;00m response:\n\u001b[1;32m--> 354\u001b[0m     \u001b[38;5;28;43mself\u001b[39;49m\u001b[38;5;241;43m.\u001b[39;49m\u001b[43merror_handler\u001b[49m\u001b[38;5;241;43m.\u001b[39;49m\u001b[43mcheck_response\u001b[49m\u001b[43m(\u001b[49m\u001b[43mresponse\u001b[49m\u001b[43m)\u001b[49m\n\u001b[0;32m    355\u001b[0m     response[\u001b[38;5;124m\"\u001b[39m\u001b[38;5;124mvalue\u001b[39m\u001b[38;5;124m\"\u001b[39m] \u001b[38;5;241m=\u001b[39m \u001b[38;5;28mself\u001b[39m\u001b[38;5;241m.\u001b[39m_unwrap_value(response\u001b[38;5;241m.\u001b[39mget(\u001b[38;5;124m\"\u001b[39m\u001b[38;5;124mvalue\u001b[39m\u001b[38;5;124m\"\u001b[39m, \u001b[38;5;28;01mNone\u001b[39;00m))\n",
      "File \u001b[1;32me:\\python\\Lib\\site-packages\\selenium\\webdriver\\remote\\errorhandler.py:229\u001b[0m, in \u001b[0;36mErrorHandler.check_response\u001b[1;34m(self, response)\u001b[0m\n\u001b[0;32m    228\u001b[0m     \u001b[38;5;28;01mraise\u001b[39;00m exception_class(message, screen, stacktrace, alert_text)  \u001b[38;5;66;03m# type: ignore[call-arg]  # mypy is not smart enough here\u001b[39;00m\n\u001b[1;32m--> 229\u001b[0m \u001b[38;5;28;01mraise\u001b[39;00m exception_class(message, screen, stacktrace)\n",
      "\u001b[1;31mNoSuchElementException\u001b[0m: Message: no such element: Unable to locate element: {\"method\":\"xpath\",\"selector\":\"/html/body/div[7]/div[1]/div/div[2]/div/div/div/div/div/div/div[1]/div/div[3]/div/div/div[1]/div[1]\"}\n  (Session info: chrome=129.0.6668.90); For documentation on this error, please visit: https://www.selenium.dev/documentation/webdriver/troubleshooting/errors#no-such-element-exception\nStacktrace:\n\tGetHandleVerifier [0x00007FF70BC1B645+29573]\n\t(No symbol) [0x00007FF70BB90470]\n\t(No symbol) [0x00007FF70BA4B6EA]\n\t(No symbol) [0x00007FF70BA9F815]\n\t(No symbol) [0x00007FF70BA9FA6C]\n\t(No symbol) [0x00007FF70BAEB917]\n\t(No symbol) [0x00007FF70BAC733F]\n\t(No symbol) [0x00007FF70BAE86BC]\n\t(No symbol) [0x00007FF70BAC70A3]\n\t(No symbol) [0x00007FF70BA912DF]\n\t(No symbol) [0x00007FF70BA92441]\n\tGetHandleVerifier [0x00007FF70BF4C58D+3375821]\n\tGetHandleVerifier [0x00007FF70BF97987+3684039]\n\tGetHandleVerifier [0x00007FF70BF8CDAB+3640043]\n\tGetHandleVerifier [0x00007FF70BCDB7C6+816390]\n\t(No symbol) [0x00007FF70BB9B77F]\n\t(No symbol) [0x00007FF70BB975A4]\n\t(No symbol) [0x00007FF70BB97740]\n\t(No symbol) [0x00007FF70BB8659F]\n\tBaseThreadInitThunk [0x00007FF8ED887374+20]\n\tRtlUserThreadStart [0x00007FF8EDF7CC91+33]\n",
      "\nDuring handling of the above exception, another exception occurred:\n",
      "\u001b[1;31mNoSuchElementException\u001b[0m                    Traceback (most recent call last)",
      "Cell \u001b[1;32mIn[26], line 37\u001b[0m\n\u001b[0;32m     35\u001b[0m         userSelectButton \u001b[38;5;241m=\u001b[39m driver\u001b[38;5;241m.\u001b[39mfind_element(\u001b[38;5;124m'\u001b[39m\u001b[38;5;124mxpath\u001b[39m\u001b[38;5;124m'\u001b[39m,\u001b[38;5;124m'\u001b[39m\u001b[38;5;124m/html/body/div[7]/div[1]/div/div[2]/div/div/div/div/div/div/div[1]/div/div[3]/div/div/div[1]/div[1]\u001b[39m\u001b[38;5;124m'\u001b[39m)\n\u001b[0;32m     36\u001b[0m     \u001b[38;5;28;01mexcept\u001b[39;00m:\n\u001b[1;32m---> 37\u001b[0m         userSelectButton \u001b[38;5;241m=\u001b[39m \u001b[43mdriver\u001b[49m\u001b[38;5;241;43m.\u001b[39;49m\u001b[43mfind_element\u001b[49m\u001b[43m(\u001b[49m\u001b[38;5;124;43m'\u001b[39;49m\u001b[38;5;124;43mxpath\u001b[39;49m\u001b[38;5;124;43m'\u001b[39;49m\u001b[43m,\u001b[49m\u001b[38;5;124;43m'\u001b[39;49m\u001b[38;5;124;43m/html/body/div[8]/div[1]/div/div[2]/div/div/div/div/div/div/div[1]/div/div[3]/div/div/div[1]/div[1]\u001b[39;49m\u001b[38;5;124;43m'\u001b[39;49m\u001b[43m)\u001b[49m\n\u001b[0;32m     39\u001b[0m userSelectButton\u001b[38;5;241m.\u001b[39mclick()\n\u001b[0;32m     40\u001b[0m time\u001b[38;5;241m.\u001b[39msleep(\u001b[38;5;241m2\u001b[39m)\n",
      "File \u001b[1;32me:\\python\\Lib\\site-packages\\selenium\\webdriver\\remote\\webdriver.py:748\u001b[0m, in \u001b[0;36mWebDriver.find_element\u001b[1;34m(self, by, value)\u001b[0m\n\u001b[0;32m    745\u001b[0m     by \u001b[38;5;241m=\u001b[39m By\u001b[38;5;241m.\u001b[39mCSS_SELECTOR\n\u001b[0;32m    746\u001b[0m     value \u001b[38;5;241m=\u001b[39m \u001b[38;5;124mf\u001b[39m\u001b[38;5;124m'\u001b[39m\u001b[38;5;124m[name=\u001b[39m\u001b[38;5;124m\"\u001b[39m\u001b[38;5;132;01m{\u001b[39;00mvalue\u001b[38;5;132;01m}\u001b[39;00m\u001b[38;5;124m\"\u001b[39m\u001b[38;5;124m]\u001b[39m\u001b[38;5;124m'\u001b[39m\n\u001b[1;32m--> 748\u001b[0m \u001b[38;5;28;01mreturn\u001b[39;00m \u001b[38;5;28;43mself\u001b[39;49m\u001b[38;5;241;43m.\u001b[39;49m\u001b[43mexecute\u001b[49m\u001b[43m(\u001b[49m\u001b[43mCommand\u001b[49m\u001b[38;5;241;43m.\u001b[39;49m\u001b[43mFIND_ELEMENT\u001b[49m\u001b[43m,\u001b[49m\u001b[43m \u001b[49m\u001b[43m{\u001b[49m\u001b[38;5;124;43m\"\u001b[39;49m\u001b[38;5;124;43musing\u001b[39;49m\u001b[38;5;124;43m\"\u001b[39;49m\u001b[43m:\u001b[49m\u001b[43m \u001b[49m\u001b[43mby\u001b[49m\u001b[43m,\u001b[49m\u001b[43m \u001b[49m\u001b[38;5;124;43m\"\u001b[39;49m\u001b[38;5;124;43mvalue\u001b[39;49m\u001b[38;5;124;43m\"\u001b[39;49m\u001b[43m:\u001b[49m\u001b[43m \u001b[49m\u001b[43mvalue\u001b[49m\u001b[43m}\u001b[49m\u001b[43m)\u001b[49m[\u001b[38;5;124m\"\u001b[39m\u001b[38;5;124mvalue\u001b[39m\u001b[38;5;124m\"\u001b[39m]\n",
      "File \u001b[1;32me:\\python\\Lib\\site-packages\\selenium\\webdriver\\remote\\webdriver.py:354\u001b[0m, in \u001b[0;36mWebDriver.execute\u001b[1;34m(self, driver_command, params)\u001b[0m\n\u001b[0;32m    352\u001b[0m response \u001b[38;5;241m=\u001b[39m \u001b[38;5;28mself\u001b[39m\u001b[38;5;241m.\u001b[39mcommand_executor\u001b[38;5;241m.\u001b[39mexecute(driver_command, params)\n\u001b[0;32m    353\u001b[0m \u001b[38;5;28;01mif\u001b[39;00m response:\n\u001b[1;32m--> 354\u001b[0m     \u001b[38;5;28;43mself\u001b[39;49m\u001b[38;5;241;43m.\u001b[39;49m\u001b[43merror_handler\u001b[49m\u001b[38;5;241;43m.\u001b[39;49m\u001b[43mcheck_response\u001b[49m\u001b[43m(\u001b[49m\u001b[43mresponse\u001b[49m\u001b[43m)\u001b[49m\n\u001b[0;32m    355\u001b[0m     response[\u001b[38;5;124m\"\u001b[39m\u001b[38;5;124mvalue\u001b[39m\u001b[38;5;124m\"\u001b[39m] \u001b[38;5;241m=\u001b[39m \u001b[38;5;28mself\u001b[39m\u001b[38;5;241m.\u001b[39m_unwrap_value(response\u001b[38;5;241m.\u001b[39mget(\u001b[38;5;124m\"\u001b[39m\u001b[38;5;124mvalue\u001b[39m\u001b[38;5;124m\"\u001b[39m, \u001b[38;5;28;01mNone\u001b[39;00m))\n\u001b[0;32m    356\u001b[0m     \u001b[38;5;28;01mreturn\u001b[39;00m response\n",
      "File \u001b[1;32me:\\python\\Lib\\site-packages\\selenium\\webdriver\\remote\\errorhandler.py:229\u001b[0m, in \u001b[0;36mErrorHandler.check_response\u001b[1;34m(self, response)\u001b[0m\n\u001b[0;32m    227\u001b[0m         alert_text \u001b[38;5;241m=\u001b[39m value[\u001b[38;5;124m\"\u001b[39m\u001b[38;5;124malert\u001b[39m\u001b[38;5;124m\"\u001b[39m]\u001b[38;5;241m.\u001b[39mget(\u001b[38;5;124m\"\u001b[39m\u001b[38;5;124mtext\u001b[39m\u001b[38;5;124m\"\u001b[39m)\n\u001b[0;32m    228\u001b[0m     \u001b[38;5;28;01mraise\u001b[39;00m exception_class(message, screen, stacktrace, alert_text)  \u001b[38;5;66;03m# type: ignore[call-arg]  # mypy is not smart enough here\u001b[39;00m\n\u001b[1;32m--> 229\u001b[0m \u001b[38;5;28;01mraise\u001b[39;00m exception_class(message, screen, stacktrace)\n",
      "\u001b[1;31mNoSuchElementException\u001b[0m: Message: no such element: Unable to locate element: {\"method\":\"xpath\",\"selector\":\"/html/body/div[8]/div[1]/div/div[2]/div/div/div/div/div/div/div[1]/div/div[3]/div/div/div[1]/div[1]\"}\n  (Session info: chrome=129.0.6668.90); For documentation on this error, please visit: https://www.selenium.dev/documentation/webdriver/troubleshooting/errors#no-such-element-exception\nStacktrace:\n\tGetHandleVerifier [0x00007FF70BC1B645+29573]\n\t(No symbol) [0x00007FF70BB90470]\n\t(No symbol) [0x00007FF70BA4B6EA]\n\t(No symbol) [0x00007FF70BA9F815]\n\t(No symbol) [0x00007FF70BA9FA6C]\n\t(No symbol) [0x00007FF70BAEB917]\n\t(No symbol) [0x00007FF70BAC733F]\n\t(No symbol) [0x00007FF70BAE86BC]\n\t(No symbol) [0x00007FF70BAC70A3]\n\t(No symbol) [0x00007FF70BA912DF]\n\t(No symbol) [0x00007FF70BA92441]\n\tGetHandleVerifier [0x00007FF70BF4C58D+3375821]\n\tGetHandleVerifier [0x00007FF70BF97987+3684039]\n\tGetHandleVerifier [0x00007FF70BF8CDAB+3640043]\n\tGetHandleVerifier [0x00007FF70BCDB7C6+816390]\n\t(No symbol) [0x00007FF70BB9B77F]\n\t(No symbol) [0x00007FF70BB975A4]\n\t(No symbol) [0x00007FF70BB97740]\n\t(No symbol) [0x00007FF70BB8659F]\n\tBaseThreadInitThunk [0x00007FF8ED887374+20]\n\tRtlUserThreadStart [0x00007FF8EDF7CC91+33]\n"
     ]
    }
   ],
   "source": [
    "#msg sending\n",
    "username = ['preyas_joshi_','magicmike.18Verified','kadakupdates']\n",
    "message = ['Dear user , trust you are doing well , do you need a custom website ?']\n",
    "counter = 0\n",
    "\n",
    "while counter < len(username) :\n",
    "    try:\n",
    "        messageButton = driver.find_element('xpath','//*[@id=\"'+mountId+'\"]/div/div/div[2]/div/div/div[1]/div[1]/div[2]/div/div/div/div/div[2]/div[5]/div/div/span/div/a/div')\n",
    "    except:     \n",
    "        messageButton = driver.find_element('xpath','//*[@id=\"'+mountId+'\"]/div/div/div[2]/div/div/div[1]/div[1]/div[2]/div/div/div/div/div[2]/div[5]/div/div/span/div/a/div')\n",
    "    \n",
    "    messageButton.click()\n",
    "    time.sleep(2)\n",
    "    \n",
    "    try:\n",
    "        sendMsgButton = driver.find_element('xpath','//*[@id=\"'+mountId+'\"]/html/body/div[8]/div[1]/div/div[2]/div/div/div/div/div/div/div[1]/div/div[2]/div/div[2]/input')\n",
    "    except:\n",
    "        sendMsgButton = driver.find_element('xpath','//*[@id=\"'+mountId+'\"]/div/div/div[2]/div/div/div[1]/div[1]/div[1]/section/main/section/div/div/div/div[1]/div/div[2]/div/div/div/div[4]/div')\n",
    "    \n",
    "    sendMsgButton.click()\n",
    "    time.sleep(2)\n",
    "    \n",
    "    try:\n",
    "        usernameTextFiels = driver.find_element('xpath','/html/body/div[8]/div[1]/div/div[2]/div/div/div/div/div/div/div[1]/div/div[2]/div/div[2]/input')\n",
    "    except:\n",
    "        usernameTextFiels = driver.find_element('xpath','/html/body/div[7]/div[1]/div/div[2]/div/div/div/div/div/div/div[1]/div/div[2]/div/div[2]/input')\n",
    "#    usernameTextFiels.send_keys()\n",
    "    usernameTextFiels.send_keys(username[counter])\n",
    "    time.sleep(5)\n",
    "    \n",
    "    try:\n",
    "        userSelectButton = driver.find_element('xpath','/html/body/div[8]/div[1]/div/div[2]/div/div/div/div/div/div/div[1]/div/div[3]/div/div[2]/div[1]/div/div/div[2]/div/div')\n",
    "    except:\n",
    "        try:\n",
    "            userSelectButton = driver.find_element('xpath','/html/body/div[7]/div[1]/div/div[2]/div/div/div/div/div/div/div[1]/div/div[3]/div/div/div[1]/div[1]')\n",
    "        except:\n",
    "            userSelectButton = driver.find_element('xpath','/html/body/div[8]/div[1]/div/div[2]/div/div/div/div/div/div/div[1]/div/div[3]/div/div/div[1]/div[1]')\n",
    "\n",
    "    userSelectButton.click()\n",
    "    time.sleep(2)\n",
    "\n",
    "    try:\n",
    "        chatButton = driver.find_element('xpath','/html/body/div[8]/div[1]/div/div[2]/div/div/div/div/div/div/div[1]/div/div[4]/div')\n",
    "    except:\n",
    "        try:\n",
    "            chatButton = driver.find_element('xpath','/html/body/div[8]/div[1]/div/div[2]/div/div/div/div/div/div/div[1]/div/div[4]/div')\n",
    "        except:\n",
    "            chatButton = driver.find_element('xpath','/html/body/div[7]/div[1]/div/div[2]/div/div/div/div/div/div/div[1]/div/div[4]/div')\n",
    "    chatButton.click()\n",
    "    time.sleep(2)\n",
    "\n",
    "    try:\n",
    "        messageTextFiels = driver.find_element('xpath','//*[@id=\"'+mountId+'\"]/div/div/div[2]/div/div/div[1]/div[1]/div[1]/section/main/section/div/div/div/div[1]/div/div[2]/div/div/div/div/div/div/div[2]/div/div/div[3]/div/div/div[2]/div/div[1]/p')\n",
    "    except:\n",
    "        try:\n",
    "            messageTextFiels = driver.find_element('xpath','//*[@id=\"'+mountId+'\"]/div/div/div[2]/div/div/div[1]/div[1]/div[1]/section/main/section/div/div/div/div[1]/div/div[2]/div/div/div/div/div/div/div[2]/div/div/div[3]/div/div/div[2]/div/div[1]/p')\n",
    "        except:\n",
    "            messageTextFiels = driver.find_element('xpath','//*[@id=\"'+mountId+'\"]/div/div/div[2]/div/div/div[1]/div[1]/div[1]/section/main/section/div/div/div/div[1]/div/div[2]/div/div/div/div/div/div/div[2]/div/div/div[2]/div/div/div[2]/div/div[1]/p')\n",
    "            \n",
    "    messageTextFiels.send_keys(message[0])\n",
    "    \n",
    "    time.sleep(2)\n",
    "\n",
    "    try:\n",
    "        sendButton = driver.find_element('xpath','//*[@id=\"'+mountId+'\"]/div/div/div[2]/div/div/div[1]/div[1]/div[1]/section/main/section/div/div/div/div[1]/div/div[2]/div/div/div/div/div/div/div[2]/div/div/div[3]/div/div/div[3]')\n",
    "    except: \n",
    "        try:\n",
    "            sendButton = driver.find_element('xpath','//*[@id=\"'+mountId+'\"]/div/div/div[2]/div/div/div[1]/div[1]/div[1]/section/main/section/div/div/div/div[1]/div/div[2]/div/div/div/div/div/div/div[2]/div/div/div[3]/div/div/div[3]')\n",
    "        except:\n",
    "            sendButton = driver.find_element('xpath','//*[@id=\"'+mountId+'\"]/div/div/div[2]/div/div/div[1]/div[1]/div[1]/section/main/section/div/div/div/div[1]/div/div[2]/div/div/div/div/div/div/div[2]/div/div/div[2]/div/div/div[3]')    \n",
    "    sendButton.click() \n",
    "    print('message sent' +username[counter]) \n",
    "    counter+=1\n",
    "    \n",
    "print('completed')\n"
   ]
  },
  {
   "cell_type": "code",
   "execution_count": null,
   "id": "62d574bf-380c-402c-956c-a33e80b62d8d",
   "metadata": {},
   "outputs": [],
   "source": [
    "soup = BeautifulSoup(driver.page_source, 'lxml')\n",
    "stringSoup = str(soup)\n",
    "mountId = stringSoup[stringSoup.index(\"mount\"):(stringSoup.index(\"mount\")+12)] \n",
    "print(mountId)"
   ]
  },
  {
   "cell_type": "code",
   "execution_count": null,
   "id": "766abda2",
   "metadata": {},
   "outputs": [],
   "source": [
    "#msg sending from excel\n",
    "message = ['Hi there, I am willing to make a full custom SEO optimised website for you that can convert visitors into clients, pay only if you liked it. How it sounds?']\n",
    "counter = 0\n",
    "userList = pd.read_excel('username.xlsx')\n",
    "for index, row in userList.iterrows():\n",
    "\n",
    "    soup = BeautifulSoup(driver.page_source, 'lxml')\n",
    "    stringSoup = str(soup)\n",
    "    mountId = stringSoup[stringSoup.index(\"mount\"):(stringSoup.index(\"mount\")+12)] \n",
    "\n",
    "    #print(row['username'])\n",
    "    try:\n",
    "        messageButton = driver.find_element('xpath','//*[@id=\"'+mountId+'\"]/div/div/div[2]/div/div/div[1]/div[1]/div[2]/div/div/div/div/div[2]/div[5]/div/div/span/div/a/div')\n",
    "    except:     \n",
    "        messageButton = driver.find_element('xpath','//*[@id=\"'+mountId+'\"]/div/div/div[2]/div/div/div[1]/div[1]/div[2]/div/div/div/div/div[2]/div[5]/div/div/span/div/a/div')\n",
    "    \n",
    "    messageButton.click()\n",
    "    time.sleep(2)\n",
    "    \n",
    "    try:\n",
    "        sendMsgButton = driver.find_element('xpath','//*[@id=\"'+mountId+'\"]/html/body/div[8]/div[1]/div/div[2]/div/div/div/div/div/div/div[1]/div/div[2]/div/div[2]/input')\n",
    "    except:\n",
    "        sendMsgButton = driver.find_element('xpath','//*[@id=\"'+mountId+'\"]/div/div/div[2]/div/div/div[1]/div[1]/div[1]/section/main/section/div/div/div/div[1]/div/div[2]/div/div/div/div[4]/div')\n",
    "    \n",
    "    sendMsgButton.click()\n",
    "    time.sleep(2)\n",
    "    \n",
    "    try:\n",
    "        usernameTextFiels = driver.find_element('xpath','/html/body/div[8]/div[1]/div/div[2]/div/div/div/div/div/div/div[1]/div/div[2]/div/div[2]/input')\n",
    "    except:\n",
    "        usernameTextFiels = driver.find_element('xpath','/html/body/div[7]/div[1]/div/div[2]/div/div/div/div/div/div/div[1]/div/div[2]/div/div[2]/input')\n",
    "#    usernameTextFiels.send_keys()\n",
    "    usernameTextFiels.send_keys(row['username'])\n",
    "    time.sleep(5)\n",
    "    \n",
    "    try:\n",
    "        userSelectButton = driver.find_element('xpath','/html/body/div[9]/div[1]/div/div[2]/div/div/div/div/div/div/div[1]/div/div[3]/div/div/div[1]/div[1]')\n",
    "    except:\n",
    "        try:\n",
    "            userSelectButton = driver.find_element('xpath','/html/body/div[7]/div[1]/div/div[2]/div/div/div/div/div/div/div[1]/div/div[3]/div/div/div[1]/div[1]')\n",
    "        except:\n",
    "            userSelectButton = driver.find_element('xpath','/html/body/div[8]/div[1]/div/div[2]/div/div/div/div/div/div/div[1]/div/div[3]/div/div/div[1]/div[1]')\n",
    "\n",
    "    userSelectButton.click()\n",
    "    time.sleep(2)\n",
    "\n",
    "    try:\n",
    "        chatButton = driver.find_element('xpath','/html/body/div[8]/div[1]/div/div[2]/div/div/div/div/div/div/div[1]/div/div[4]/div')\n",
    "    except:\n",
    "        try:\n",
    "            chatButton = driver.find_element('xpath','/html/body/div[8]/div[1]/div/div[2]/div/div/div/div/div/div/div[1]/div/div[4]/div')\n",
    "        except:\n",
    "            chatButton = driver.find_element('xpath','/html/body/div[7]/div[1]/div/div[2]/div/div/div/div/div/div/div[1]/div/div[4]/div')\n",
    "    chatButton.click()\n",
    "    time.sleep(2)\n",
    "\n",
    "    try:\n",
    "        messageTextFiels = driver.find_element('xpath','//*[@id=\"'+mountId+'\"]/div/div/div[2]/div/div/div[1]/div[1]/div[1]/section/main/section/div/div/div/div[1]/div/div[2]/div/div/div/div/div/div/div[2]/div/div/div[3]/div/div/div[2]/div/div[1]/p')\n",
    "    except:\n",
    "        try:\n",
    "            messageTextFiels = driver.find_element('xpath','//*[@id=\"'+mountId+'\"]/div/div/div[2]/div/div/div[1]/div[1]/div[1]/section/main/section/div/div/div/div[1]/div/div[2]/div/div/div/div/div/div/div[2]/div/div/div[3]/div/div/div[2]/div/div[1]/p')\n",
    "        except:\n",
    "            messageTextFiels = driver.find_element('xpath','//*[@id=\"'+mountId+'\"]/div/div/div[2]/div/div/div[1]/div[1]/div[1]/section/main/section/div/div/div/div[1]/div/div[2]/div/div/div/div/div/div/div[2]/div/div/div[2]/div/div/div[2]/div/div[1]/p')\n",
    "            \n",
    "    messageTextFiels.send_keys(message[0])\n",
    "    \n",
    "    time.sleep(2)\n",
    "\n",
    "    try:\n",
    "        sendButton = driver.find_element('xpath','//*[@id=\"'+mountId+'\"]/div/div/div[2]/div/div/div[1]/div[1]/div[1]/section/main/section/div/div/div/div[1]/div/div[2]/div/div/div/div/div/div/div[2]/div/div/div[3]/div/div/div[3]')\n",
    "    except: \n",
    "        try:\n",
    "            sendButton = driver.find_element('xpath','//*[@id=\"'+mountId+'\"]/div/div/div[2]/div/div/div[1]/div[1]/div[1]/section/main/section/div/div/div/div[1]/div/div[2]/div/div/div/div/div/div/div[2]/div/div/div[3]/div/div/div[3]')\n",
    "        except:\n",
    "            sendButton = driver.find_element('xpath','//*[@id=\"'+mountId+'\"]/div/div/div[2]/div/div/div[1]/div[1]/div[1]/section/main/section/div/div/div/div[1]/div/div[2]/div/div/div/div/div/div/div[2]/div/div/div[2]/div/div/div[3]')    \n",
    "    sendButton.click() \n",
    "    print('message sent' +row['username']) \n",
    "    counter+=1   \n",
    "print('completed')"
   ]
  }
 ],
 "metadata": {
  "kernelspec": {
   "display_name": "Python 3",
   "language": "python",
   "name": "python3"
  },
  "language_info": {
   "codemirror_mode": {
    "name": "ipython",
    "version": 3
   },
   "file_extension": ".py",
   "mimetype": "text/x-python",
   "name": "python",
   "nbconvert_exporter": "python",
   "pygments_lexer": "ipython3",
   "version": "3.12.0"
  }
 },
 "nbformat": 4,
 "nbformat_minor": 5
}
