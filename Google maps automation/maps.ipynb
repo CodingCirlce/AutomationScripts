{
 "cells": [
  {
   "cell_type": "code",
   "execution_count": 1,
   "id": "da0f0a14-5aab-4a8c-8fea-a459a57df55d",
   "metadata": {},
   "outputs": [
    {
     "data": {
      "text/plain": [
       "7"
      ]
     },
     "execution_count": 1,
     "metadata": {},
     "output_type": "execute_result"
    }
   ],
   "source": [
    "2+5"
   ]
  },
  {
   "cell_type": "code",
   "execution_count": 2,
   "id": "b3a252ad-2519-4a0b-b978-cf4f60a79b29",
   "metadata": {},
   "outputs": [],
   "source": [
    "from bs4 import BeautifulSoup\n",
    "import lxml\n",
    "import requests\n",
    "from selenium import webdriver\n",
    "from selenium.webdriver.common.by import By\n",
    "from selenium.webdriver.common.keys import Keys\n",
    "from selenium.webdriver.support import expected_conditions as EC\n",
    "from selenium.webdriver.support.ui import WebDriverWait\n",
    "import time"
   ]
  },
  {
   "cell_type": "code",
   "execution_count": 5,
   "id": "e233a35e-a863-4eb5-9eeb-ef83bcbaf621",
   "metadata": {},
   "outputs": [],
   "source": [
    "#cService = webdriver.ChromeService(executable_path='F:/Work/Automation Web scraping/Automation test/chromedriver-win64/chromedriver.exe')\n",
    "#driver = webdriver.Chrome(service = cService)\n",
    "driver = webdriver.Chrome()\n",
    "driver.get('https://www.google.com/search?q=restaurants+in+salt+lake&sca_esv=1eda6e0add178775&biw=1536&bih=686&tbm=lcl&ei=hAvCZsfSJvGc4-EP5uTXqAg&oq=restaurants+in+salt&gs_lp=Eg1nd3Mtd2l6LWxvY2FsIhNyZXN0YXVyYW50cyBpbiBzYWx0KgIIADIFEAAYgAQyBRAAGIAEMgUQABiABDIFEAAYgAQyBRAAGIAEMgUQABiABDIFEAAYgAQyBRAAGIAEMgUQABiABDIFEAAYgARIoltQxwhY5k9wAHgAkAEBmAHoAqABlByqAQgwLjE4LjEuMbgBA8gBAPgBAZgCEKAC7RbCAgYQABgHGB7CAggQABgHGB4YD8ICBxAAGIAEGA3CAgYQABgWGB7CAggQABgWGB4YD8ICCxAAGIAEGJECGIoFmAMAiAYBkgcGMC4xNC4yoAe_kgE&sclient=gws-wiz-local#rlfi=hd:;si:;mv:[[22.5986835,88.43996159999999],[22.5655723,88.403593]];tbs:lrf:!1m4!1u3!2m2!3m1!1e1!1m4!1u5!2m2!5m1!1sgcid_3north_1indian_1restaurant!1m4!1u5!2m2!5m1!1sgcid_3chinese_1restaurant!1m4!1u2!2m2!2m1!1e1!1m4!1u1!2m2!1m1!1e1!1m4!1u1!2m2!1m1!1e2!2m1!1e2!2m1!1e5!2m1!1e1!2m1!1e3!3sIAEqAklO,lf:1,lf_ui:9')\n",
    "time.sleep(2)"
   ]
  },
  {
   "cell_type": "code",
   "execution_count": 7,
   "id": "23d989f9-5f11-4374-a228-1ba032205154",
   "metadata": {},
   "outputs": [
    {
     "name": "stdout",
     "output_type": "stream",
     "text": [
      "Kouzina Marine, 033 4072 4344\n",
      "GALAWAT, 070444 44656\n",
      "Koshe Kosha - Salt Lake, 098309 49494\n",
      "Azad Hind Dhaba, 033 2334 3823\n",
      "Bhojohori Manna Salt Lake Sector V, 033 4803 5150\n",
      "Red Xpress Restaurant & Bar, 078904 53600\n",
      "Opium Bar And Restaurant, 33235776411\n",
      "Pepper Town, 098305 70165\n",
      "Aami Bangali Restaurant Saltlake, 082509 66893\n",
      "Baati Chokha Restaurant, 033 4063 1050\n",
      "4th Street Dining Hall, 098302 57658\n",
      "Waterside Cafe, 098302 57658\n",
      "First Innings, 098302 57658\n",
      "K LOCAL, 098310 61440\n"
     ]
    },
    {
     "ename": "AttributeError",
     "evalue": "'NoneType' object has no attribute 'text'",
     "output_type": "error",
     "traceback": [
      "\u001b[1;31m---------------------------------------------------------------------------\u001b[0m",
      "\u001b[1;31mAttributeError\u001b[0m                            Traceback (most recent call last)",
      "Cell \u001b[1;32mIn[7], line 18\u001b[0m\n\u001b[0;32m     16\u001b[0m phoneNumber \u001b[38;5;241m=\u001b[39m soup\u001b[38;5;241m.\u001b[39mfind(\u001b[38;5;124m'\u001b[39m\u001b[38;5;124ma\u001b[39m\u001b[38;5;124m'\u001b[39m, jscontroller \u001b[38;5;241m=\u001b[39m \u001b[38;5;124m'\u001b[39m\u001b[38;5;124mLWZElb\u001b[39m\u001b[38;5;124m'\u001b[39m)\n\u001b[0;32m     17\u001b[0m \u001b[38;5;66;03m#print(phoneNumber.text)\u001b[39;00m\n\u001b[1;32m---> 18\u001b[0m \u001b[38;5;28mprint\u001b[39m(\u001b[38;5;124m\"\u001b[39m\u001b[38;5;124m, \u001b[39m\u001b[38;5;124m\"\u001b[39m\u001b[38;5;241m.\u001b[39mjoin([location, \u001b[43mphoneNumber\u001b[49m\u001b[38;5;241;43m.\u001b[39;49m\u001b[43mtext\u001b[49m]))\n\u001b[0;32m     20\u001b[0m count \u001b[38;5;241m+\u001b[39m\u001b[38;5;241m=\u001b[39m \u001b[38;5;241m1\u001b[39m\n",
      "\u001b[1;31mAttributeError\u001b[0m: 'NoneType' object has no attribute 'text'"
     ]
    }
   ],
   "source": [
    "#version 1 auto-scrolling is not enable\n",
    "\n",
    "soup = BeautifulSoup(driver.page_source, 'lxml')\n",
    "locations = soup.find_all('div', jscontroller = 'AtSb') \n",
    "clicks = driver.find_elements(By.CLASS_NAME,'cXedhc')\n",
    "\n",
    "count = 0 \n",
    "while count < len(locations) :\n",
    "    location = locations[count].text\n",
    "    location = location[:location.index('.')-1]\n",
    "    #print(location)\n",
    "    \n",
    "    clicks[count].click()\n",
    "    time.sleep(2)\n",
    "    soup = BeautifulSoup(driver.page_source, 'lxml')\n",
    "    phoneNumber = soup.find('a', jscontroller = 'LWZElb')\n",
    "    #print(phoneNumber.text)\n",
    "    print(\", \".join([location, phoneNumber.text]))\n",
    "    \n",
    "    count += 1"
   ]
  },
  {
   "cell_type": "code",
   "execution_count": null,
   "id": "fcf56dae-bafe-42ee-806d-a1de312ecf3a",
   "metadata": {},
   "outputs": [],
   "source": [
    "#version 2 auto-scrolling is enabled \n",
    "\n",
    "soup = BeautifulSoup(driver.page_source, 'lxml')\n",
    "locations = soup.find_all('div', jscontroller = 'AtSb') \n",
    "clicks = driver.find_elements(By.CLASS_NAME,'cXedhc')\n",
    "\n",
    "count = 0 \n",
    "while count < len(locations) :\n",
    "    location = locations[count].text\n",
    "    location = location[:location.index('.')-1]\n",
    "    #print(location)\n",
    "    \n",
    "    clicks[count].click()\n",
    "    time.sleep(2)\n",
    "    soup = BeautifulSoup(driver.page_source, 'lxml')\n",
    "    phoneNumber = soup.find('a', jscontroller = 'LWZElb')\n",
    "    #print(phoneNumber.text)\n",
    "    print(\", \".join([location, phoneNumber.text]))\n",
    "    \n",
    "    count += 1\n",
    "\n",
    "#need to implement"
   ]
  }
 ],
 "metadata": {
  "kernelspec": {
   "display_name": "Python 3 (ipykernel)",
   "language": "python",
   "name": "python3"
  },
  "language_info": {
   "codemirror_mode": {
    "name": "ipython",
    "version": 3
   },
   "file_extension": ".py",
   "mimetype": "text/x-python",
   "name": "python",
   "nbconvert_exporter": "python",
   "pygments_lexer": "ipython3",
   "version": "3.12.0"
  }
 },
 "nbformat": 4,
 "nbformat_minor": 5
}
