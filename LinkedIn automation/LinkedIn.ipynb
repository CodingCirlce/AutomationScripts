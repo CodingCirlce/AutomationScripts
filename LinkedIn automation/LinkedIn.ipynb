{
 "cells": [
  {
   "cell_type": "code",
   "execution_count": 1,
   "id": "da0f0a14-5aab-4a8c-8fea-a459a57df55d",
   "metadata": {},
   "outputs": [
    {
     "data": {
      "text/plain": [
       "7"
      ]
     },
     "execution_count": 1,
     "metadata": {},
     "output_type": "execute_result"
    }
   ],
   "source": [
    "2+5"
   ]
  },
  {
   "cell_type": "code",
   "execution_count": 2,
   "id": "b3a252ad-2519-4a0b-b978-cf4f60a79b29",
   "metadata": {},
   "outputs": [],
   "source": [
    "from bs4 import BeautifulSoup\n",
    "import lxml\n",
    "import requests\n",
    "from selenium import webdriver\n",
    "from selenium.webdriver.common.by import By\n",
    "from selenium.webdriver.common.keys import Keys\n",
    "from selenium.webdriver.support import expected_conditions as EC\n",
    "from selenium.webdriver.support.ui import WebDriverWait\n",
    "import time"
   ]
  },
  {
   "cell_type": "code",
   "execution_count": 3,
   "id": "853e3ff4-dc29-480d-8167-dc7bedacf686",
   "metadata": {},
   "outputs": [],
   "source": [
    "comment = 'DM me, will connect'\n",
    "keywords = ['hiring','Hiring','develop','Develpment','job']"
   ]
  },
  {
   "cell_type": "code",
   "execution_count": 4,
   "id": "e233a35e-a863-4eb5-9eeb-ef83bcbaf621",
   "metadata": {},
   "outputs": [],
   "source": [
    "#cService = webdriver.ChromeService(executable_path='F:/Work/Automation Web scraping/Automation test/chromedriver-win64/chromedriver.exe')\n",
    "#driver = webdriver.Chrome(service = cService)\n",
    "driver = webdriver.Chrome()\n",
    "driver.get('https://www.linkedin.com/login')\n",
    "time.sleep(5)"
   ]
  },
  {
   "cell_type": "code",
   "execution_count": 5,
   "id": "23d989f9-5f11-4374-a228-1ba032205154",
   "metadata": {},
   "outputs": [],
   "source": [
    "#login\n",
    "login = driver.find_element('xpath','//*[@id=\"username\"]')\n",
    "login.send_keys('s.codingcircle@gmail.com')\n",
    "time.sleep(2)\n",
    "\n",
    "pswd = driver.find_element('xpath','//*[@id=\"password\"]')\n",
    "pswd.send_keys('souvik2000')\n",
    "time.sleep(2)\n",
    "\n",
    "loginButton = driver.find_element('xpath','//*[@id=\"organic-div\"]/form/div[3]/button')\n",
    "loginButton.click()"
   ]
  },
  {
   "cell_type": "code",
   "execution_count": 6,
   "id": "055db264-d71b-43c4-a3cb-7d22c58bdfaa",
   "metadata": {},
   "outputs": [],
   "source": [
    "posts = []\n",
    "while True:\n",
    "    soup = BeautifulSoup(driver.page_source, 'lxml')\n",
    "    postings = soup.find_all('div', class_ = 'update-components-text relative update-components-update-v2__commentary')\n",
    "    usernames = soup.find_all('span',class_ = 'update-components-actor__title')\n",
    "    count = 0\n",
    "    while count < len(postings):\n",
    "        posts.append(\",\".join([usernames[count].text, postings[count].text]))\n",
    "        count+=1\n",
    "    driver.execute_script('window.scrollTo(0, document.body.scrollHeight)')\n",
    "    time.sleep(5)\n",
    "    WebDriverWait(driver, 10).until(EC.presence_of_element_located((By.CLASS_NAME, 'update-components-text')))\n",
    "    soup = BeautifulSoup(driver.page_source, 'lxml')\n",
    "    postings = soup.find_all('div', class_ = 'update-components-text relative update-components-update-v2__commentary')\n",
    "    usernames = soup.find_all('span',class_ = 'update-components-actor__title')\n",
    "    posts2 = list(set(posts))\n",
    "    if len(posts2) > 5:\n",
    "        break"
   ]
  },
  {
   "cell_type": "code",
   "execution_count": 7,
   "id": "e95ec2e5-d5ff-44a3-838e-02eccc0c9f6f",
   "metadata": {},
   "outputs": [
    {
     "name": "stdout",
     "output_type": "stream",
     "text": [
      "6\n",
      "\n",
      "\n",
      "Olawale KolawoleOlawale Kolawole\n",
      "\n",
      "\n",
      " • 3rd+ • 3rd+\n",
      "\n",
      ",\n",
      "\n",
      "\n",
      " 💡Fallen high-voltage line...Did you know???🤔How to save yourself when a high-voltage line falls. You could be shocked when in the area of a downed hashtag#power line. The minimum safe distance from a fallen electrical wire is 35 feet, according to hashtag#energy hashtag#company. This is about the length of an average hashtag#school bus. Make sure you keep hashtag#children and hashtag#pets away from that wire, as well.Be aware that hashtag#electricity may pass through soil, water, metal or even people or animals up to 8-10 meters away from a fallen power line. Move away from the area.Do not drive across a downed power line. If a power line falls on your hashtag#car, stay inside and wait for hashtag#help.This is the radius of danger of a fallen power line and provides a tip to avoid instant electrocuting. hashtag#physics hashtag#electricalengineering hashtag#training hashtag#electricalengineer hashtag#electrical hashtag#engineering hashtag#science hashtag#students hashtag#scienceandtechnology hashtag#students hashtag#learning hashtag#technology hashtag#education\n",
      "\n",
      "\n",
      "\n",
      "\n",
      "Anurag BanerjeeAnurag Banerjee\n",
      "\n",
      "\n",
      " • 3rd+ • 3rd+\n",
      "\n",
      ",\n",
      "\n",
      "\n",
      " hashtag#HiringAre you passionate about EdTech sales?Do you have the drive and vision to lead?Are you all about delivering results?Is sales your ultimate passion?If you answered yes to any of these, then I have an exciting opportunity for you!On behalf of PlanetSpark, I'm on the lookout for dynamic leaders to join us as Business Development Managers.Ready to take the next step in your career? Fill in your details, and let's chat about how you can make an impact with us!hashtag#hiring hashtag#leaders hashtag#sales hashtag#businessdevelopment hashtag#edtech hashtag#gurgaon hashtag#delhi hashtag#noida hashtag#opportunity hashtag#insidesale hashtag#B2C hashtag#helpinghands hashtag#layoffsKarandeep singh Vibhor Mehrotra Nitish Bhardwaj\n",
      "\n",
      "\n",
      "\n",
      "\n",
      "Priyanka NautiyalPriyanka Nautiyal\n",
      "\n",
      "\n",
      " • 3rd+ • 3rd+\n",
      "\n",
      ",\n",
      "\n",
      "\n",
      " Hello connections!!We are hiring for5 level/roles:L1 Assistant supervisorL2 SupervisorL3 Assistant managerL4 ManagerL5 Senior Managerhashtag#Location : Permanent work from homehashtag#Salary : 25k - 50k plus benifits and recognitionDay shift (flexible timing) : 10:00Am - 7:00pmPart time full time option available5days working (Saturday and Sunday fixed off)hashtag#Qualification : Any graduateFRESHERS CAN APPLY.Apply now and hashtag#like post and hashtag#comment I'm interested.REFERENCE ARE HIGHLY APPRECIATED!!!hashtag#Skill required: Excellent communication skill, Time management, Team handling.\n",
      "\n",
      "\n",
      "\n",
      "\n",
      "Crimson EducationCrimson Education\n",
      "\n",
      " ,\n",
      "\n",
      "\n",
      " 🎓 How can your child stand out from the competition at Oxbridge or the Ivy League? ➡ On 6th Sept, 2024, Lucy and Sonam, who graduated from these two elite institutions themselves, will join hands in Kolkata and debate each other on the UK versus US university experience, from curriculums to career opportunities.\n",
      "\n",
      "\n",
      "\n",
      "\n",
      "seema antilseema antil\n",
      "\n",
      "\n",
      " • Following • Following\n",
      "\n",
      ",\n",
      "\n",
      "\n",
      " very hashtag#helpful hashtag#know hashtag#information hashtag#voltage hashtag#facts\n",
      "\n",
      "\n",
      "\n",
      "\n",
      "Kumar PrateekKumar Prateek\n",
      "\n",
      "\n",
      " • Following • Following\n",
      "\n",
      ",\n",
      "\n",
      "\n",
      " ~2.4 years. 856 days of silence. I am happy to announce with my hashtag#linkedIn hashtag#connections that the paper titled \"QSKA: A Quantum Secured Privacy-Preserving Mutual Authentication Scheme for Energy Internet-Based Vehicle-to-Grid Communication\" with authors Kumar Prateek, Dr. Soumyadev Maity and Neetesh Saxena has been accepted as a regular paper in IEEE Transactions on Network and Service Management (IEEE TNSM). ✨ ✨ ✨ Sleepless nights became my norm, doubt my constant companion. \"Is it worth it?\" echoed in my mind countless times. You sacrifice, you struggle, and the world moves on, oblivious to your efforts.In academia's glacial pace, unpublished work feels invisible, and apparently, patience stretches like a rubber band ready to snap.Amidst rigorous revisions, despair threatened to overtake me. But when I faltered, my co-authors Dr. Soumyadev Maity sir and Neetesh Saxena sir stood strong. With their unwavering support, we rejuvenated our revision submission, transforming despair into triumph!!!But today, upon receiving the acceptance mail, I feel a sense of relaxation. I want to express my sincere gratitude to Dr. Soumyadev Maity Sir and Neetesh Saxena Sir for being the pillars of support. Sir, I will be forever grateful to both of you for the consistent technical input and handholding throughout the process.I also want to show my sincere gratitude to all my hashtag#seniors, hashtag#phd_clis_seniors and hashtag#friends for sharing their insights, opinions, participating in fruitful discussions, deliberations and even helping me out professionally whenever the need arises.Note: The reviews we received were exceptionally technical, playing an important role in substantially improving the quality of our paper. We are grateful to all the hashtag#reviewers for their dedicated and selfless efforts to upgrade the scientific community. As a fellow reviewer for different venue, I empathize with the time constraints and challenges the reviewers face in the timely review submission. hashtag#PhDStruggle hashtag#AcademicPerseverance hashtag#NeverGiveUp hashtag#PerseveranceWins hashtag#Gratitude hashtag#IIITA hashtag#IEEE hashtag#TNSM hashtag#Transactions hashtag#Gratitude hashtag#Positivity\n",
      "\n",
      "\n"
     ]
    }
   ],
   "source": [
    "#All post\n",
    "posts2 = list(set(posts2))\n",
    "print(len(posts2))\n",
    "\n",
    "count = 0\n",
    "while count < len(posts2):\n",
    "    print(posts2[count])\n",
    "    count+=1 "
   ]
  },
  {
   "cell_type": "code",
   "execution_count": 14,
   "id": "22808fef-50fe-48ed-a71a-4612e5718572",
   "metadata": {},
   "outputs": [
    {
     "name": "stdout",
     "output_type": "stream",
     "text": [
      "\n",
      "\n",
      "Archy GuptaArchy Gupta\n",
      "\n",
      "\n",
      " • Following • Following\n",
      "\n",
      ",\n",
      "\n",
      "\n",
      " ✅From Opentext → Here, it’s been an incredible journey. Many of you have asked about my experience, so I thought I'd share some insights.🚀📍Here's what I learned during my transition:👉🏻 Upskill strategically - I focused on system design and distributed systems.👉🏻 Be prepared for a long process - My switch took 6 months from interviews to offer.👉🏻 Stay updated - I made sure to brush up on the latest tech trends in my field.The biggest challenge was being consistent with my preparation while working full-time. If you're in the same boat and struggling to keep up with your job switch preparation, find someone who can keep you accountable. ✌️At Preplaced, you can connect with top engineers who will not only guide you but also keep you on track.🔗Just book a free trial with an expert engineer here: https://lnkd.in/gFFwDnFhThey will provide a structured approach for interview preparation, conduct regular mock interviews, and give you the push you need to land your dream job. 💫hashtag#CareerJourney hashtag#JobSwitch hashtag#Collab hashtag#PreplacedCollab hashtag#InterviewPreparation\n",
      "\n",
      "\n",
      "\n",
      "\n",
      "Anjali KumariAnjali Kumari\n",
      "\n",
      "\n",
      " • 3rd+ • 3rd+\n",
      "\n",
      ",\n",
      "\n",
      "\n",
      " This was really a tough journey for me.But whenever I see this picture, it gives me the satisfaction for all my hard works🏆Trust me guys Whatever is taking from u now to achieve your goal, will going to be return back soon 💯 If recruiter could reach out to me, then they could reach out to u also. You just need to start and with a good networking 👍 and most important—— your day 🍁I always repeat the same thing to you…have your good networking, this is really gonna help u a lot All the bestStay positive and spread positivity 🙌hashtag#motivation hashtag#positivities hashtag#opportunities hashtag#softwareengineering hashtag#jobs hashtag#linkedin hashtag#connections hashtag#networking\n",
      "\n",
      "\n",
      "\n",
      "\n",
      "Swati JhaSwati Jha\n",
      "\n",
      "\n",
      " (She/Her) • Following (She/Her) • Following\n",
      "\n",
      ",\n",
      "\n",
      "\n",
      " 3 Mistakes That I Made and You Should Avoid if You’re Switching to a Product-based Company 💔 😔.Getting into a PBC is a dream of many working professionals and I had this dream too However, making mistakes along the way can cost you precious opportunities. 😓Here are three mistakes I made and why it's important to overcome them. 👇🏿❌ Mistake 1️⃣ : I underestimated the complexity of technical interviews at PBCs. In the beginning my preparation was focused more on theoretical knowledge rather than practical problem-solving. ❌ Mistake 2️⃣:I focused too heavily on DSA, neglecting the importance of system design. Coming from a service-based background, my experience with designing large-scale systems was limited, and I didn’t spend enough time on it. ❌ Mistake 3️⃣:I didn't properly familiarize myself with the specific tech stack and tools used by the PBC I was applying to. While I had strong software development skills, but I lacked experience with specific frameworks, cloud services, and CI/CD pipelines.✅Remember, learning from mistakes is crucial, and overcoming these challenges will bring you one step closer to your dream job at your dream company Now, If you’re someone who needs help in improving the areas mentioned above and want a structured curriculum & Guidance I would suggest checking Bosscoder Academy Check here: https://bit.ly/3ya6ztT They provide a well-structured program that can help you master DSA, System Design, and Full Stack Development along with personal mentorship and 24/7 doubt supporthashtag#collab hashtag#mistakes hashtag#careerswitch\n",
      "\n",
      "\n"
     ]
    }
   ],
   "source": [
    "#Post/username contains mentioned keywords\n",
    "posts2 = list(set(posts2))\n",
    "#print(len(posts2))\n",
    "\n",
    "count = 0\n",
    "while count < len(posts2):\n",
    "    counter = 0\n",
    "    while counter < len(keywords) :\n",
    "        if keywords[counter] in posts2[count] :\n",
    "            print(posts2[count])\n",
    "            break\n",
    "        counter += 1\n",
    "    count+=1 "
   ]
  },
  {
   "cell_type": "code",
   "execution_count": null,
   "id": "5f999d0e-8140-4309-bdaf-8cbfbf426191",
   "metadata": {},
   "outputs": [],
   "source": []
  }
 ],
 "metadata": {
  "kernelspec": {
   "display_name": "Python 3 (ipykernel)",
   "language": "python",
   "name": "python3"
  },
  "language_info": {
   "codemirror_mode": {
    "name": "ipython",
    "version": 3
   },
   "file_extension": ".py",
   "mimetype": "text/x-python",
   "name": "python",
   "nbconvert_exporter": "python",
   "pygments_lexer": "ipython3",
   "version": "3.12.0"
  }
 },
 "nbformat": 4,
 "nbformat_minor": 5
}
