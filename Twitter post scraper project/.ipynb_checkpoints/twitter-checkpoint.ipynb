{
 "cells": [
  {
   "cell_type": "code",
   "execution_count": 12,
   "id": "da0f0a14-5aab-4a8c-8fea-a459a57df55d",
   "metadata": {},
   "outputs": [
    {
     "data": {
      "text/plain": [
       "5"
      ]
     },
     "execution_count": 12,
     "metadata": {},
     "output_type": "execute_result"
    }
   ],
   "source": [
    "2+3"
   ]
  },
  {
   "cell_type": "code",
   "execution_count": 13,
   "id": "b3a252ad-2519-4a0b-b978-cf4f60a79b29",
   "metadata": {},
   "outputs": [],
   "source": [
    "from bs4 import BeautifulSoup\n",
    "import lxml\n",
    "import requests\n",
    "from selenium import webdriver\n",
    "from selenium.webdriver.common.by import By\n",
    "from selenium.webdriver.common.keys import Keys\n",
    "from selenium.webdriver.support import expected_conditions as EC\n",
    "from selenium.webdriver.support.ui import WebDriverWait\n",
    "import time"
   ]
  },
  {
   "cell_type": "code",
   "execution_count": 14,
   "id": "853e3ff4-dc29-480d-8167-dc7bedacf686",
   "metadata": {},
   "outputs": [],
   "source": [
    "celebrity = 'Ryan Reynolds'"
   ]
  },
  {
   "cell_type": "code",
   "execution_count": 16,
   "id": "e233a35e-a863-4eb5-9eeb-ef83bcbaf621",
   "metadata": {},
   "outputs": [],
   "source": [
    "#cService = webdriver.ChromeService(executable_path='E:\\Web-automation-with-selenium-master\\Twitter post scraper project\\chromedriver-win64.exe')\n",
    "#driver = webdriver.Chrome(service = cService)\n",
    "#driver.get('https://x.com/i/flow/login')\n",
    "driver = webdriver.Chrome()\n",
    "driver.get(\"https://x.com/i/flow/login\")\n",
    "time.sleep(5)"
   ]
  },
  {
   "cell_type": "code",
   "execution_count": 17,
   "id": "21272ab1-334e-4cfa-b930-19b001b0a6c4",
   "metadata": {},
   "outputs": [
    {
     "ename": "NoSuchWindowException",
     "evalue": "Message: no such window: target window already closed\nfrom unknown error: web view not found\n  (Session info: chrome=126.0.6478.185)\nStacktrace:\n\tGetHandleVerifier [0x00007FF6B263EEB2+31554]\n\t(No symbol) [0x00007FF6B25B7EE9]\n\t(No symbol) [0x00007FF6B247872A]\n\t(No symbol) [0x00007FF6B244D995]\n\t(No symbol) [0x00007FF6B24F44D7]\n\t(No symbol) [0x00007FF6B250C051]\n\t(No symbol) [0x00007FF6B24ECDD3]\n\t(No symbol) [0x00007FF6B24BA33B]\n\t(No symbol) [0x00007FF6B24BAED1]\n\tGetHandleVerifier [0x00007FF6B2948B2D+3217341]\n\tGetHandleVerifier [0x00007FF6B2995AF3+3532675]\n\tGetHandleVerifier [0x00007FF6B298B0F0+3489152]\n\tGetHandleVerifier [0x00007FF6B26EE786+750614]\n\t(No symbol) [0x00007FF6B25C376F]\n\t(No symbol) [0x00007FF6B25BEB24]\n\t(No symbol) [0x00007FF6B25BECB2]\n\t(No symbol) [0x00007FF6B25AE17F]\n\tBaseThreadInitThunk [0x00007FFC9D9D7374+20]\n\tRtlUserThreadStart [0x00007FFC9F2BCC91+33]\n",
     "output_type": "error",
     "traceback": [
      "\u001b[1;31m---------------------------------------------------------------------------\u001b[0m",
      "\u001b[1;31mNoSuchWindowException\u001b[0m                     Traceback (most recent call last)",
      "Cell \u001b[1;32mIn[17], line 1\u001b[0m\n\u001b[1;32m----> 1\u001b[0m login \u001b[38;5;241m=\u001b[39m \u001b[43mdriver\u001b[49m\u001b[38;5;241;43m.\u001b[39;49m\u001b[43mfind_element\u001b[49m\u001b[43m(\u001b[49m\u001b[38;5;124;43m'\u001b[39;49m\u001b[38;5;124;43mxpath\u001b[39;49m\u001b[38;5;124;43m'\u001b[39;49m\u001b[43m,\u001b[49m\u001b[38;5;124;43m'\u001b[39;49m\u001b[38;5;124;43m//*[@id=\u001b[39;49m\u001b[38;5;124;43m\"\u001b[39;49m\u001b[38;5;124;43mlayers\u001b[39;49m\u001b[38;5;124;43m\"\u001b[39;49m\u001b[38;5;124;43m]/div[2]/div/div/div/div/div/div[2]/div[2]/div/div/div[2]/div[2]/div/div/div/div[4]/label/div/div[2]/div/input\u001b[39;49m\u001b[38;5;124;43m'\u001b[39;49m\u001b[43m)\u001b[49m\n\u001b[0;32m      2\u001b[0m login\u001b[38;5;241m.\u001b[39msend_keys(\u001b[38;5;124m'\u001b[39m\u001b[38;5;124mkodingcircle@gmail.com\u001b[39m\u001b[38;5;124m'\u001b[39m)\n",
      "File \u001b[1;32mE:\\python\\Lib\\site-packages\\selenium\\webdriver\\remote\\webdriver.py:748\u001b[0m, in \u001b[0;36mWebDriver.find_element\u001b[1;34m(self, by, value)\u001b[0m\n\u001b[0;32m    745\u001b[0m     by \u001b[38;5;241m=\u001b[39m By\u001b[38;5;241m.\u001b[39mCSS_SELECTOR\n\u001b[0;32m    746\u001b[0m     value \u001b[38;5;241m=\u001b[39m \u001b[38;5;124mf\u001b[39m\u001b[38;5;124m'\u001b[39m\u001b[38;5;124m[name=\u001b[39m\u001b[38;5;124m\"\u001b[39m\u001b[38;5;132;01m{\u001b[39;00mvalue\u001b[38;5;132;01m}\u001b[39;00m\u001b[38;5;124m\"\u001b[39m\u001b[38;5;124m]\u001b[39m\u001b[38;5;124m'\u001b[39m\n\u001b[1;32m--> 748\u001b[0m \u001b[38;5;28;01mreturn\u001b[39;00m \u001b[38;5;28;43mself\u001b[39;49m\u001b[38;5;241;43m.\u001b[39;49m\u001b[43mexecute\u001b[49m\u001b[43m(\u001b[49m\u001b[43mCommand\u001b[49m\u001b[38;5;241;43m.\u001b[39;49m\u001b[43mFIND_ELEMENT\u001b[49m\u001b[43m,\u001b[49m\u001b[43m \u001b[49m\u001b[43m{\u001b[49m\u001b[38;5;124;43m\"\u001b[39;49m\u001b[38;5;124;43musing\u001b[39;49m\u001b[38;5;124;43m\"\u001b[39;49m\u001b[43m:\u001b[49m\u001b[43m \u001b[49m\u001b[43mby\u001b[49m\u001b[43m,\u001b[49m\u001b[43m \u001b[49m\u001b[38;5;124;43m\"\u001b[39;49m\u001b[38;5;124;43mvalue\u001b[39;49m\u001b[38;5;124;43m\"\u001b[39;49m\u001b[43m:\u001b[49m\u001b[43m \u001b[49m\u001b[43mvalue\u001b[49m\u001b[43m}\u001b[49m\u001b[43m)\u001b[49m[\u001b[38;5;124m\"\u001b[39m\u001b[38;5;124mvalue\u001b[39m\u001b[38;5;124m\"\u001b[39m]\n",
      "File \u001b[1;32mE:\\python\\Lib\\site-packages\\selenium\\webdriver\\remote\\webdriver.py:354\u001b[0m, in \u001b[0;36mWebDriver.execute\u001b[1;34m(self, driver_command, params)\u001b[0m\n\u001b[0;32m    352\u001b[0m response \u001b[38;5;241m=\u001b[39m \u001b[38;5;28mself\u001b[39m\u001b[38;5;241m.\u001b[39mcommand_executor\u001b[38;5;241m.\u001b[39mexecute(driver_command, params)\n\u001b[0;32m    353\u001b[0m \u001b[38;5;28;01mif\u001b[39;00m response:\n\u001b[1;32m--> 354\u001b[0m     \u001b[38;5;28;43mself\u001b[39;49m\u001b[38;5;241;43m.\u001b[39;49m\u001b[43merror_handler\u001b[49m\u001b[38;5;241;43m.\u001b[39;49m\u001b[43mcheck_response\u001b[49m\u001b[43m(\u001b[49m\u001b[43mresponse\u001b[49m\u001b[43m)\u001b[49m\n\u001b[0;32m    355\u001b[0m     response[\u001b[38;5;124m\"\u001b[39m\u001b[38;5;124mvalue\u001b[39m\u001b[38;5;124m\"\u001b[39m] \u001b[38;5;241m=\u001b[39m \u001b[38;5;28mself\u001b[39m\u001b[38;5;241m.\u001b[39m_unwrap_value(response\u001b[38;5;241m.\u001b[39mget(\u001b[38;5;124m\"\u001b[39m\u001b[38;5;124mvalue\u001b[39m\u001b[38;5;124m\"\u001b[39m, \u001b[38;5;28;01mNone\u001b[39;00m))\n\u001b[0;32m    356\u001b[0m     \u001b[38;5;28;01mreturn\u001b[39;00m response\n",
      "File \u001b[1;32mE:\\python\\Lib\\site-packages\\selenium\\webdriver\\remote\\errorhandler.py:229\u001b[0m, in \u001b[0;36mErrorHandler.check_response\u001b[1;34m(self, response)\u001b[0m\n\u001b[0;32m    227\u001b[0m         alert_text \u001b[38;5;241m=\u001b[39m value[\u001b[38;5;124m\"\u001b[39m\u001b[38;5;124malert\u001b[39m\u001b[38;5;124m\"\u001b[39m]\u001b[38;5;241m.\u001b[39mget(\u001b[38;5;124m\"\u001b[39m\u001b[38;5;124mtext\u001b[39m\u001b[38;5;124m\"\u001b[39m)\n\u001b[0;32m    228\u001b[0m     \u001b[38;5;28;01mraise\u001b[39;00m exception_class(message, screen, stacktrace, alert_text)  \u001b[38;5;66;03m# type: ignore[call-arg]  # mypy is not smart enough here\u001b[39;00m\n\u001b[1;32m--> 229\u001b[0m \u001b[38;5;28;01mraise\u001b[39;00m exception_class(message, screen, stacktrace)\n",
      "\u001b[1;31mNoSuchWindowException\u001b[0m: Message: no such window: target window already closed\nfrom unknown error: web view not found\n  (Session info: chrome=126.0.6478.185)\nStacktrace:\n\tGetHandleVerifier [0x00007FF6B263EEB2+31554]\n\t(No symbol) [0x00007FF6B25B7EE9]\n\t(No symbol) [0x00007FF6B247872A]\n\t(No symbol) [0x00007FF6B244D995]\n\t(No symbol) [0x00007FF6B24F44D7]\n\t(No symbol) [0x00007FF6B250C051]\n\t(No symbol) [0x00007FF6B24ECDD3]\n\t(No symbol) [0x00007FF6B24BA33B]\n\t(No symbol) [0x00007FF6B24BAED1]\n\tGetHandleVerifier [0x00007FF6B2948B2D+3217341]\n\tGetHandleVerifier [0x00007FF6B2995AF3+3532675]\n\tGetHandleVerifier [0x00007FF6B298B0F0+3489152]\n\tGetHandleVerifier [0x00007FF6B26EE786+750614]\n\t(No symbol) [0x00007FF6B25C376F]\n\t(No symbol) [0x00007FF6B25BEB24]\n\t(No symbol) [0x00007FF6B25BECB2]\n\t(No symbol) [0x00007FF6B25AE17F]\n\tBaseThreadInitThunk [0x00007FFC9D9D7374+20]\n\tRtlUserThreadStart [0x00007FFC9F2BCC91+33]\n"
     ]
    }
   ],
   "source": [
    "login = driver.find_element('xpath','//*[@id=\"layers\"]/div[2]/div/div/div/div/div/div[2]/div[2]/div/div/div[2]/div[2]/div/div/div/div[4]/label/div/div[2]/div/input')\n",
    "login.send_keys('kodingcircle@gmail.com')"
   ]
  },
  {
   "cell_type": "code",
   "execution_count": 6,
   "id": "5657d64a-fda8-4d5c-99a1-c2042b8c85f7",
   "metadata": {},
   "outputs": [],
   "source": [
    "nextButton = driver.find_element('xpath','//*[@id=\"layers\"]/div[2]/div/div/div/div/div/div[2]/div[2]/div/div/div[2]/div[2]/div/div/div/button[2]')\n",
    "nextButton.click()"
   ]
  },
  {
   "cell_type": "code",
   "execution_count": 7,
   "id": "e55fb5bf-0238-4a51-89d6-14b8d0ad8c7e",
   "metadata": {},
   "outputs": [],
   "source": [
    "time.sleep(5)"
   ]
  },
  {
   "cell_type": "code",
   "execution_count": 10,
   "id": "7fa9f855-4ac6-47f0-b882-f8b6c6778bc5",
   "metadata": {},
   "outputs": [],
   "source": [
    "pswd = driver.find_element('xpath','//*[@id=\"layers\"]/div[2]/div/div/div/div/div/div[2]/div[2]/div/div/div[2]/div[2]/div[1]/div/div/div[3]/div/label/div/div[2]/div[1]/input')\n",
    "pswd.send_keys('souvik2000')"
   ]
  },
  {
   "cell_type": "code",
   "execution_count": 11,
   "id": "776350c2-1cb5-4069-b884-4f366603719e",
   "metadata": {},
   "outputs": [],
   "source": [
    "loginButton = driver.find_element('xpath','//*[@id=\"layers\"]/div[2]/div/div/div/div/div/div[2]/div[2]/div/div/div[2]/div[2]/div[2]/div/div[1]/div/div/button')\n",
    "loginButton.click()"
   ]
  },
  {
   "cell_type": "code",
   "execution_count": 12,
   "id": "bc59849c-1985-47f5-825f-9b9788740e8f",
   "metadata": {},
   "outputs": [
    {
     "data": {
      "text/plain": [
       "<selenium.webdriver.remote.webelement.WebElement (session=\"a8e7ff711c02fc8db5970839943aa241\", element=\"f.F7C6B2A36576A7F5D850AA05AFD7D287.d.86BBB0FD8238952C1F84E37DC6875B51.e.90\")>"
      ]
     },
     "execution_count": 12,
     "metadata": {},
     "output_type": "execute_result"
    }
   ],
   "source": [
    "WebDriverWait(driver, 10).until(EC.presence_of_element_located((By.XPATH, '//*[@id=\"react-root\"]/div/div/div[2]/main/div/div/div/div[2]/div/div[2]/div/div/div/div[1]/div/div/div/form/div[1]/div/div/div/div/div[2]/div/input')))"
   ]
  },
  {
   "cell_type": "code",
   "execution_count": 13,
   "id": "cea05504-28f6-4f0f-bc28-b55d3fe331b8",
   "metadata": {},
   "outputs": [],
   "source": [
    "search = driver.find_element('xpath','//*[@id=\"react-root\"]/div/div/div[2]/main/div/div/div/div[2]/div/div[2]/div/div/div/div[1]/div/div/div/form/div[1]/div/div/div/div/div[2]/div/input')\n",
    "search.send_keys(celebrity)\n",
    "search.send_keys(Keys.ENTER)\n",
    "time.sleep(2)"
   ]
  },
  {
   "cell_type": "code",
   "execution_count": 14,
   "id": "f064057d-2ea5-4fe4-8251-f5d5a76f7512",
   "metadata": {},
   "outputs": [],
   "source": [
    "#Clicks on the people tab which has all the accounts associated with who we searched up\n",
    "people = driver.find_element('xpath','//*[@id=\"react-root\"]/div/div/div[2]/main/div/div/div/div[1]/div/div[1]/div[1]/div[2]/nav/div/div[2]/div/div[3]/a').click()\n",
    "time.sleep(2)"
   ]
  },
  {
   "cell_type": "code",
   "execution_count": 15,
   "id": "4fc80344-dd13-4f1f-a1a0-9ed080bdd10b",
   "metadata": {},
   "outputs": [],
   "source": [
    "#clicks on our celebrities profile\n",
    "profile = driver.find_element('xpath','//*[@id=\"react-root\"]/div/div/div[2]/main/div/div/div/div[1]/div/div[3]/section/div/div/div[1]/div/div/button/div/div[2]/div[1]/div[1]/div/div[1]/a').click()\n",
    "time.sleep(2)"
   ]
  },
  {
   "cell_type": "code",
   "execution_count": 36,
   "id": "5a774dc7-bbf1-4171-90ae-4d62f2a223b8",
   "metadata": {},
   "outputs": [],
   "source": [
    "#Imports the HTML of the celebrities profile into python\n",
    "soup = BeautifulSoup(driver.page_source, 'lxml')"
   ]
  },
  {
   "cell_type": "code",
   "execution_count": 39,
   "id": "0785a930-14d2-433b-a064-afbe9650d07b",
   "metadata": {},
   "outputs": [
    {
     "data": {
      "text/plain": [
       "'Hey Siri, why is Marvel calling me?'"
      ]
     },
     "execution_count": 39,
     "metadata": {},
     "output_type": "execute_result"
    }
   ],
   "source": [
    "#grabs the HTML of each tweet\n",
    "#ERROR WARNING! If there is an error try recopying the class attribute here, twitter may have changed it by like one or two letters whcih affects our code\n",
    "postings = soup.find_all('div', class_ = 'css-146c3p1 r-8akbws r-krxsd3 r-dnmrzs r-1udh08x r-bcqeeo r-1ttztb7 r-qvutc0 r-37j5jr r-a023e6 r-rjixqe r-16dba41 r-bnwqim') \n",
    "postings[2].text"
   ]
  },
  {
   "cell_type": "code",
   "execution_count": 40,
   "id": "1c11c43c-e312-440f-bb91-31edf1a720bc",
   "metadata": {},
   "outputs": [],
   "source": [
    "#This loop will keep scrolling down the webpage loading in and collecting new tweets until we have scraped 100 unique tweets\n",
    "tweets = []\n",
    "while True:\n",
    "    for post in postings:\n",
    "        tweets.append(post.text)\n",
    "    driver.execute_script('window.scrollTo(0, document.body.scrollHeight)')\n",
    "    time.sleep(1)\n",
    "    soup = BeautifulSoup(driver.page_source, 'lxml')\n",
    "    #need to change the class here to match it with the other posting variable if there is an error\n",
    "    postings = soup.find_all('div', class_ = 'css-146c3p1 r-8akbws r-krxsd3 r-dnmrzs r-1udh08x r-bcqeeo r-1ttztb7 r-qvutc0 r-37j5jr r-a023e6 r-rjixqe r-16dba41 r-bnwqim')\n",
    "    tweets2 = list(set(tweets))\n",
    "    if len(tweets2) > 5:\n",
    "        break"
   ]
  },
  {
   "cell_type": "code",
   "execution_count": 41,
   "id": "6c932f60-14f8-4561-a260-a721dba1a9ec",
   "metadata": {},
   "outputs": [
    {
     "data": {
      "text/plain": [
       "['LFG. GT. #DeadpoolAndWolverine ',\n",
       " 'The moment of conception is too young. And certainly, nobody over 114 years old should see this and expect to leave the theater alive.',\n",
       " 'Hey Siri, why is Marvel calling me?',\n",
       " 'Yesterday Hugh and I had one of our many difficult morning conversations while I supervised his hair application. He expressed interest in changing the title of our film from “Deadpool & Wolverine” to something snappier. He slowly slid a piece of folded toilet paper across the',\n",
       " 'Get by with a little help from my friends. Indeed I do. @VancityReynolds @ShawnLevyDirect #DeadpoolAndWolverine',\n",
       " 'LFG. GT. #DeadpoolAndWolverine ',\n",
       " 'The moment of conception is too young. And certainly, nobody over 114 years old should see this and expect to leave the theater alive.',\n",
       " 'Hey Siri, why is Marvel calling me?',\n",
       " 'Yesterday Hugh and I had one of our many difficult morning conversations while I supervised his hair application. He expressed interest in changing the title of our film from “Deadpool & Wolverine” to something snappier. He slowly slid a piece of folded toilet paper across the',\n",
       " 'Get by with a little help from my friends. Indeed I do. @VancityReynolds @ShawnLevyDirect #DeadpoolAndWolverine',\n",
       " 'London, you beautiful bastard. Thanks for breaking your arms around the #DeadpoolAndWolverine tour. No idea what day or time or year it is. But I’m absolutely certain I’ve laughed my goddamn guts out every second of making the most extraordinary film of my career with two of my']"
      ]
     },
     "execution_count": 41,
     "metadata": {},
     "output_type": "execute_result"
    }
   ],
   "source": [
    "tweets"
   ]
  },
  {
   "cell_type": "code",
   "execution_count": 43,
   "id": "900638a5-d183-4c06-ac90-253699110719",
   "metadata": {},
   "outputs": [
    {
     "data": {
      "text/plain": [
       "['LFG. GT. #DeadpoolAndWolverine ',\n",
       " 'London, you beautiful bastard. Thanks for breaking your arms around the #DeadpoolAndWolverine tour. No idea what day or time or year it is. But I’m absolutely certain I’ve laughed my goddamn guts out every second of making the most extraordinary film of my career with two of my',\n",
       " 'The moment of conception is too young. And certainly, nobody over 114 years old should see this and expect to leave the theater alive.',\n",
       " 'Yesterday Hugh and I had one of our many difficult morning conversations while I supervised his hair application. He expressed interest in changing the title of our film from “Deadpool & Wolverine” to something snappier. He slowly slid a piece of folded toilet paper across the',\n",
       " 'Get by with a little help from my friends. Indeed I do. @VancityReynolds @ShawnLevyDirect #DeadpoolAndWolverine',\n",
       " 'Hey Siri, why is Marvel calling me?']"
      ]
     },
     "execution_count": 43,
     "metadata": {},
     "output_type": "execute_result"
    }
   ],
   "source": [
    "#distinct\n",
    "my_list = list(set(tweets))\n",
    "my_list"
   ]
  },
  {
   "cell_type": "code",
   "execution_count": 42,
   "id": "028b9c4a-93ce-4ad6-afa3-b61f476e63d6",
   "metadata": {},
   "outputs": [
    {
     "data": {
      "text/plain": [
       "['LFG. GT. #DeadpoolAndWolverine ',\n",
       " 'London, you beautiful bastard. Thanks for breaking your arms around the #DeadpoolAndWolverine tour. No idea what day or time or year it is. But I’m absolutely certain I’ve laughed my goddamn guts out every second of making the most extraordinary film of my career with two of my',\n",
       " 'The moment of conception is too young. And certainly, nobody over 114 years old should see this and expect to leave the theater alive.',\n",
       " 'Yesterday Hugh and I had one of our many difficult morning conversations while I supervised his hair application. He expressed interest in changing the title of our film from “Deadpool & Wolverine” to something snappier. He slowly slid a piece of folded toilet paper across the',\n",
       " 'Get by with a little help from my friends. Indeed I do. @VancityReynolds @ShawnLevyDirect #DeadpoolAndWolverine',\n",
       " 'Hey Siri, why is Marvel calling me?']"
      ]
     },
     "execution_count": 42,
     "metadata": {},
     "output_type": "execute_result"
    }
   ],
   "source": [
    "#Subsets our list of tweets to only contain the tweets with a specific word located in it\n",
    "new_tweets = []    \n",
    "for i in tweets2:\n",
    "    #To change that specific word just input into the string below\n",
    "    if '' in i:\n",
    "        new_tweets.append(i)\n",
    "new_tweets"
   ]
  },
  {
   "cell_type": "code",
   "execution_count": null,
   "id": "23d989f9-5f11-4374-a228-1ba032205154",
   "metadata": {},
   "outputs": [],
   "source": []
  }
 ],
 "metadata": {
  "kernelspec": {
   "display_name": "Python 3 (ipykernel)",
   "language": "python",
   "name": "python3"
  },
  "language_info": {
   "codemirror_mode": {
    "name": "ipython",
    "version": 3
   },
   "file_extension": ".py",
   "mimetype": "text/x-python",
   "name": "python",
   "nbconvert_exporter": "python",
   "pygments_lexer": "ipython3",
   "version": "3.12.0"
  }
 },
 "nbformat": 4,
 "nbformat_minor": 5
}
