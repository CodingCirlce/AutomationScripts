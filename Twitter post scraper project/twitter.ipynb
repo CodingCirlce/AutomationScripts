{
 "cells": [
  {
   "cell_type": "code",
   "execution_count": 1,
   "id": "da0f0a14-5aab-4a8c-8fea-a459a57df55d",
   "metadata": {},
   "outputs": [
    {
     "data": {
      "text/plain": [
       "5"
      ]
     },
     "execution_count": 1,
     "metadata": {},
     "output_type": "execute_result"
    }
   ],
   "source": [
    "2+3"
   ]
  },
  {
   "cell_type": "code",
   "execution_count": 2,
   "id": "b3a252ad-2519-4a0b-b978-cf4f60a79b29",
   "metadata": {},
   "outputs": [],
   "source": [
    "from bs4 import BeautifulSoup\n",
    "import lxml\n",
    "import requests\n",
    "from selenium import webdriver\n",
    "from selenium.webdriver.common.by import By\n",
    "from selenium.webdriver.common.keys import Keys\n",
    "from selenium.webdriver.support import expected_conditions as EC\n",
    "from selenium.webdriver.support.ui import WebDriverWait\n",
    "import time"
   ]
  },
  {
   "cell_type": "code",
   "execution_count": 3,
   "id": "853e3ff4-dc29-480d-8167-dc7bedacf686",
   "metadata": {},
   "outputs": [],
   "source": [
    "celebrity = 'Ryan Reynolds'"
   ]
  },
  {
   "cell_type": "code",
   "execution_count": 4,
   "id": "e233a35e-a863-4eb5-9eeb-ef83bcbaf621",
   "metadata": {},
   "outputs": [],
   "source": [
    "#cService = webdriver.ChromeService(executable_path='E:\\Web-automation-with-selenium-master\\Twitter post scraper project\\chromedriver-win64.exe')\n",
    "#driver = webdriver.Chrome(service = cService)\n",
    "#driver.get('https://x.com/i/flow/login')\n",
    "driver = webdriver.Chrome()\n",
    "driver.get(\"https://x.com/i/flow/login\")\n",
    "time.sleep(5)"
   ]
  },
  {
   "cell_type": "code",
   "execution_count": 5,
   "id": "21272ab1-334e-4cfa-b930-19b001b0a6c4",
   "metadata": {},
   "outputs": [],
   "source": [
    "login = driver.find_element('xpath','//*[@id=\"layers\"]/div[2]/div/div/div/div/div/div[2]/div[2]/div/div/div[2]/div[2]/div/div/div/div[4]/label/div/div[2]/div/input')\n",
    "login.send_keys('kodingcircle@gmail.com')"
   ]
  },
  {
   "cell_type": "code",
   "execution_count": 6,
   "id": "5657d64a-fda8-4d5c-99a1-c2042b8c85f7",
   "metadata": {},
   "outputs": [],
   "source": [
    "nextButton = driver.find_element('xpath','//*[@id=\"layers\"]/div[2]/div/div/div/div/div/div[2]/div[2]/div/div/div[2]/div[2]/div/div/div/button[2]')\n",
    "nextButton.click()"
   ]
  },
  {
   "cell_type": "code",
   "execution_count": 7,
   "id": "e55fb5bf-0238-4a51-89d6-14b8d0ad8c7e",
   "metadata": {},
   "outputs": [],
   "source": [
    "time.sleep(5)"
   ]
  },
  {
   "cell_type": "code",
   "execution_count": 8,
   "id": "7fa9f855-4ac6-47f0-b882-f8b6c6778bc5",
   "metadata": {},
   "outputs": [],
   "source": [
    "pswd = driver.find_element('xpath','//*[@id=\"layers\"]/div[2]/div/div/div/div/div/div[2]/div[2]/div/div/div[2]/div[2]/div[1]/div/div/div[3]/div/label/div/div[2]/div[1]/input')\n",
    "pswd.send_keys('souvik2000')"
   ]
  },
  {
   "cell_type": "code",
   "execution_count": 23,
   "id": "776350c2-1cb5-4069-b884-4f366603719e",
   "metadata": {},
   "outputs": [],
   "source": [
    "loginButton = driver.find_element('xpath','//*[@id=\"layers\"]/div[2]/div/div/div/div/div/div[2]/div[2]/div/div/div[2]/div[2]/div[2]/div/div[1]/div/div/button')\n",
    "loginButton.click()"
   ]
  },
  {
   "cell_type": "code",
   "execution_count": 24,
   "id": "bc59849c-1985-47f5-825f-9b9788740e8f",
   "metadata": {},
   "outputs": [
    {
     "data": {
      "text/plain": [
       "<selenium.webdriver.remote.webelement.WebElement (session=\"a2a1a2fc12c81a7cb0ae396dbd4f7f0f\", element=\"f.FDD64F1971297181471A21AAE6B24D15.d.A4F0CC654A51727B2F582809EC6593B5.e.344\")>"
      ]
     },
     "execution_count": 24,
     "metadata": {},
     "output_type": "execute_result"
    }
   ],
   "source": [
    "WebDriverWait(driver, 10).until(EC.presence_of_element_located((By.XPATH, '//*[@id=\"react-root\"]/div/div/div[2]/main/div/div/div/div[2]/div/div[2]/div/div/div/div[1]/div/div/div/form/div[1]/div/div/div/div/div[2]/div/input')))"
   ]
  },
  {
   "cell_type": "code",
   "execution_count": 25,
   "id": "cea05504-28f6-4f0f-bc28-b55d3fe331b8",
   "metadata": {},
   "outputs": [],
   "source": [
    "search = driver.find_element('xpath','//*[@id=\"react-root\"]/div/div/div[2]/main/div/div/div/div[2]/div/div[2]/div/div/div/div[1]/div/div/div/form/div[1]/div/div/div/div/div[2]/div/input')\n",
    "search.send_keys(celebrity)\n",
    "search.send_keys(Keys.ENTER)\n",
    "time.sleep(2)"
   ]
  },
  {
   "cell_type": "code",
   "execution_count": 26,
   "id": "f064057d-2ea5-4fe4-8251-f5d5a76f7512",
   "metadata": {},
   "outputs": [],
   "source": [
    "#Clicks on the people tab which has all the accounts associated with who we searched up\n",
    "people = driver.find_element('xpath','//*[@id=\"react-root\"]/div/div/div[2]/main/div/div/div/div[1]/div/div[1]/div[1]/div[2]/nav/div/div[2]/div/div[3]/a').click()\n",
    "time.sleep(2)"
   ]
  },
  {
   "cell_type": "code",
   "execution_count": 27,
   "id": "4fc80344-dd13-4f1f-a1a0-9ed080bdd10b",
   "metadata": {},
   "outputs": [],
   "source": [
    "#clicks on our celebrities profile\n",
    "profile = driver.find_element('xpath','//*[@id=\"react-root\"]/div/div/div[2]/main/div/div/div/div[1]/div/div[3]/section/div/div/div[1]/div/div/button/div/div[2]/div[1]/div[1]/div/div[1]/a').click()\n",
    "time.sleep(2)"
   ]
  },
  {
   "cell_type": "code",
   "execution_count": 28,
   "id": "5a774dc7-bbf1-4171-90ae-4d62f2a223b8",
   "metadata": {},
   "outputs": [],
   "source": [
    "#Imports the HTML of the celebrities profile into python\n",
    "soup = BeautifulSoup(driver.page_source, 'lxml')"
   ]
  },
  {
   "cell_type": "code",
   "execution_count": 29,
   "id": "0785a930-14d2-433b-a064-afbe9650d07b",
   "metadata": {},
   "outputs": [
    {
     "data": {
      "text/plain": [
       "'Marvel is back! #DeadpoolAndWolverine is EVERYTHING. Shawn Levy has crafted the ultimate love letter to the FOX universe and delivered a jaw dropping magnum opus of action, fan service, comedy, and Marvel gold. \\n\\nHugh Jackman is on fire. Pure unadulterated brilliance. @MarvelUK'"
      ]
     },
     "execution_count": 29,
     "metadata": {},
     "output_type": "execute_result"
    }
   ],
   "source": [
    "#grabs the HTML of each tweet\n",
    "#ERROR WARNING! If there is an error try recopying the class attribute here, twitter may have changed it by like one or two letters whcih affects our code\n",
    "postings = soup.find_all('div', class_ = 'css-146c3p1 r-8akbws r-krxsd3 r-dnmrzs r-1udh08x r-bcqeeo r-1ttztb7 r-qvutc0 r-37j5jr r-a023e6 r-rjixqe r-16dba41 r-bnwqim') \n",
    "postings[2].text"
   ]
  },
  {
   "cell_type": "code",
   "execution_count": 30,
   "id": "1c11c43c-e312-440f-bb91-31edf1a720bc",
   "metadata": {},
   "outputs": [],
   "source": [
    "#This loop will keep scrolling down the webpage loading in and collecting new tweets until we have scraped 100 unique tweets\n",
    "tweets = []\n",
    "while True:\n",
    "    for post in postings:\n",
    "        tweets.append(post.text)\n",
    "    driver.execute_script('window.scrollTo(0, document.body.scrollHeight)')\n",
    "    time.sleep(1)\n",
    "    soup = BeautifulSoup(driver.page_source, 'lxml')\n",
    "    #need to change the class here to match it with the other posting variable if there is an error\n",
    "    postings = soup.find_all('div', class_ = 'css-146c3p1 r-8akbws r-krxsd3 r-dnmrzs r-1udh08x r-bcqeeo r-1ttztb7 r-qvutc0 r-37j5jr r-a023e6 r-rjixqe r-16dba41 r-bnwqim')\n",
    "    tweets2 = list(set(tweets))\n",
    "    if len(tweets2) > 5:\n",
    "        break"
   ]
  },
  {
   "cell_type": "code",
   "execution_count": 31,
   "id": "6c932f60-14f8-4561-a260-a721dba1a9ec",
   "metadata": {},
   "outputs": [
    {
     "data": {
      "text/plain": [
       "['We’ve waited a very long time for this. #DeadpoolAndWolverine ',\n",
       " 'Tonight, let us pray.\\n#DeadpoolAndWolverine ',\n",
       " 'Marvel is back! #DeadpoolAndWolverine is EVERYTHING. Shawn Levy has crafted the ultimate love letter to the FOX universe and delivered a jaw dropping magnum opus of action, fan service, comedy, and Marvel gold. \\n\\nHugh Jackman is on fire. Pure unadulterated brilliance. @MarvelUK',\n",
       " 'Tonight. LFG. \\n#DeadpoolAndWolverine ',\n",
       " 'http://fandango.com/deadpoolandwolverine…',\n",
       " 'I love how the surprise characters in #DeadpoolAndWolverine are vital to the storyline. They aren’t just throwaway sight gags. They have things to do. Fights to fight. For example, Dafne Keen is a proper badass & one of my favorite parts of the film. And there’s so much more!',\n",
       " 'LFG! Absolutely loved #DeadpoolAndWolverine - yes the cameos and surprises are epic, and the humor, action, blood-soaked fights and needle drops are tremendous, too… but it’s the respect and love for the characters that win you over. \\n\\nThis is the ultimate Deadpool movie. It is',\n",
       " '#DeadpoolAndWolverine Lived up WAY beyond the HYPE!! It seamless jumps from a nostalgia cameo fueld ride to a genuine sweet & emotional tribute to the Fox era Marvel movies. It’s insane how much was hidden. Funniest MCU movie to date. Shawn Levy’s action also kicks ass!',\n",
       " 'Saw a movie I waited 24 Years for\\n\\n#DeadpoolandWolverine is here & I can say they are Authentically DEADPOOL & WOLVERINE on that screen\\n\\nComic fans,strap in for one of the most COMIC BOOK movies from the MCU or anyone\\n\\nHugh Jackman\\nRyan Reynolds\\nShawn Levy\\nMarvel Jesus\\n\\nThank you',\n",
       " '#DeadpoolAndWolverine is THE superhero nostalgia fest you’ve been waiting for. If you’ve been suffering from “superhero fatigue” this will be a fucking shock to your system that will have you laughing, screaming, and crying. 10/10 no notes.',\n",
       " 'down on our knees #DeadpoolAndWolverine @Madonna']"
      ]
     },
     "execution_count": 31,
     "metadata": {},
     "output_type": "execute_result"
    }
   ],
   "source": [
    "tweets"
   ]
  },
  {
   "cell_type": "code",
   "execution_count": 32,
   "id": "900638a5-d183-4c06-ac90-253699110719",
   "metadata": {},
   "outputs": [
    {
     "data": {
      "text/plain": [
       "['Tonight. LFG. \\n#DeadpoolAndWolverine ',\n",
       " 'I love how the surprise characters in #DeadpoolAndWolverine are vital to the storyline. They aren’t just throwaway sight gags. They have things to do. Fights to fight. For example, Dafne Keen is a proper badass & one of my favorite parts of the film. And there’s so much more!',\n",
       " 'We’ve waited a very long time for this. #DeadpoolAndWolverine ',\n",
       " '#DeadpoolAndWolverine is THE superhero nostalgia fest you’ve been waiting for. If you’ve been suffering from “superhero fatigue” this will be a fucking shock to your system that will have you laughing, screaming, and crying. 10/10 no notes.',\n",
       " '#DeadpoolAndWolverine Lived up WAY beyond the HYPE!! It seamless jumps from a nostalgia cameo fueld ride to a genuine sweet & emotional tribute to the Fox era Marvel movies. It’s insane how much was hidden. Funniest MCU movie to date. Shawn Levy’s action also kicks ass!',\n",
       " 'LFG! Absolutely loved #DeadpoolAndWolverine - yes the cameos and surprises are epic, and the humor, action, blood-soaked fights and needle drops are tremendous, too… but it’s the respect and love for the characters that win you over. \\n\\nThis is the ultimate Deadpool movie. It is',\n",
       " 'down on our knees #DeadpoolAndWolverine @Madonna',\n",
       " 'Saw a movie I waited 24 Years for\\n\\n#DeadpoolandWolverine is here & I can say they are Authentically DEADPOOL & WOLVERINE on that screen\\n\\nComic fans,strap in for one of the most COMIC BOOK movies from the MCU or anyone\\n\\nHugh Jackman\\nRyan Reynolds\\nShawn Levy\\nMarvel Jesus\\n\\nThank you',\n",
       " 'Tonight, let us pray.\\n#DeadpoolAndWolverine ',\n",
       " 'Marvel is back! #DeadpoolAndWolverine is EVERYTHING. Shawn Levy has crafted the ultimate love letter to the FOX universe and delivered a jaw dropping magnum opus of action, fan service, comedy, and Marvel gold. \\n\\nHugh Jackman is on fire. Pure unadulterated brilliance. @MarvelUK',\n",
       " 'http://fandango.com/deadpoolandwolverine…']"
      ]
     },
     "execution_count": 32,
     "metadata": {},
     "output_type": "execute_result"
    }
   ],
   "source": [
    "#distinct\n",
    "my_list = list(set(tweets))\n",
    "my_list"
   ]
  },
  {
   "cell_type": "code",
   "execution_count": 33,
   "id": "028b9c4a-93ce-4ad6-afa3-b61f476e63d6",
   "metadata": {},
   "outputs": [
    {
     "data": {
      "text/plain": [
       "['Tonight. LFG. \\n#DeadpoolAndWolverine ',\n",
       " 'I love how the surprise characters in #DeadpoolAndWolverine are vital to the storyline. They aren’t just throwaway sight gags. They have things to do. Fights to fight. For example, Dafne Keen is a proper badass & one of my favorite parts of the film. And there’s so much more!',\n",
       " 'We’ve waited a very long time for this. #DeadpoolAndWolverine ',\n",
       " '#DeadpoolAndWolverine is THE superhero nostalgia fest you’ve been waiting for. If you’ve been suffering from “superhero fatigue” this will be a fucking shock to your system that will have you laughing, screaming, and crying. 10/10 no notes.',\n",
       " '#DeadpoolAndWolverine Lived up WAY beyond the HYPE!! It seamless jumps from a nostalgia cameo fueld ride to a genuine sweet & emotional tribute to the Fox era Marvel movies. It’s insane how much was hidden. Funniest MCU movie to date. Shawn Levy’s action also kicks ass!',\n",
       " 'LFG! Absolutely loved #DeadpoolAndWolverine - yes the cameos and surprises are epic, and the humor, action, blood-soaked fights and needle drops are tremendous, too… but it’s the respect and love for the characters that win you over. \\n\\nThis is the ultimate Deadpool movie. It is',\n",
       " 'down on our knees #DeadpoolAndWolverine @Madonna',\n",
       " 'Saw a movie I waited 24 Years for\\n\\n#DeadpoolandWolverine is here & I can say they are Authentically DEADPOOL & WOLVERINE on that screen\\n\\nComic fans,strap in for one of the most COMIC BOOK movies from the MCU or anyone\\n\\nHugh Jackman\\nRyan Reynolds\\nShawn Levy\\nMarvel Jesus\\n\\nThank you',\n",
       " 'Tonight, let us pray.\\n#DeadpoolAndWolverine ',\n",
       " 'Marvel is back! #DeadpoolAndWolverine is EVERYTHING. Shawn Levy has crafted the ultimate love letter to the FOX universe and delivered a jaw dropping magnum opus of action, fan service, comedy, and Marvel gold. \\n\\nHugh Jackman is on fire. Pure unadulterated brilliance. @MarvelUK',\n",
       " 'http://fandango.com/deadpoolandwolverine…']"
      ]
     },
     "execution_count": 33,
     "metadata": {},
     "output_type": "execute_result"
    }
   ],
   "source": [
    "#Subsets our list of tweets to only contain the tweets with a specific word located in it\n",
    "new_tweets = []    \n",
    "for i in tweets2:\n",
    "    #To change that specific word just input into the string below\n",
    "    if '' in i:\n",
    "        new_tweets.append(i)\n",
    "new_tweets"
   ]
  },
  {
   "cell_type": "code",
   "execution_count": null,
   "id": "23d989f9-5f11-4374-a228-1ba032205154",
   "metadata": {},
   "outputs": [],
   "source": []
  }
 ],
 "metadata": {
  "kernelspec": {
   "display_name": "Python 3 (ipykernel)",
   "language": "python",
   "name": "python3"
  },
  "language_info": {
   "codemirror_mode": {
    "name": "ipython",
    "version": 3
   },
   "file_extension": ".py",
   "mimetype": "text/x-python",
   "name": "python",
   "nbconvert_exporter": "python",
   "pygments_lexer": "ipython3",
   "version": "3.12.0"
  }
 },
 "nbformat": 4,
 "nbformat_minor": 5
}
